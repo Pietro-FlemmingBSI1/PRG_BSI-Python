{
  "nbformat": 4,
  "nbformat_minor": 0,
  "metadata": {
    "colab": {
      "provenance": [],
      "authorship_tag": "ABX9TyOmvlxIAN0olqoVxHEiqaTc",
      "include_colab_link": true
    },
    "kernelspec": {
      "name": "python3",
      "display_name": "Python 3"
    },
    "language_info": {
      "name": "python"
    }
  },
  "cells": [
    {
      "cell_type": "markdown",
      "metadata": {
        "id": "view-in-github",
        "colab_type": "text"
      },
      "source": [
        "<a href=\"https://colab.research.google.com/github/PietroFlemming-Glov3r/PRG_BSI-Python/blob/main/POO_Lista03.ipynb\" target=\"_parent\"><img src=\"https://colab.research.google.com/assets/colab-badge.svg\" alt=\"Open In Colab\"/></a>"
      ]
    },
    {
      "cell_type": "markdown",
      "source": [
        "1. Crie uma hierarquia de classes para animais, com uma classe mãe **Animal** e subclasses **Cachorro**, **Gato** e **Peixe**. Cada subclasse deve ter um método **falar**() que retorne uma string representando o som que o animal faz. Demonstre o polimorfismo chamando **falar**() nas instâncias de cada subclasse."
      ],
      "metadata": {
        "id": "UAYybnbrxeoY"
      }
    },
    {
      "cell_type": "code",
      "source": [
        "class Animal():\n",
        "  # Propriedades\n",
        "\n",
        "  # Métodos\n",
        "  def getFalar(self):\n",
        "    pass\n",
        "\n",
        "class Cachorro(Animal):\n",
        "  # Propriedades\n",
        "\n",
        "  # Métodos\n",
        "  def getFalar(self):\n",
        "    print(\"AuAu\")\n",
        "\n",
        "class Gato(Animal):\n",
        "  # Propriedades\n",
        "\n",
        "  # Métodos\n",
        "  def getFalar(self):\n",
        "    print(\"Miau\")\n",
        "\n",
        "class Peixe(Animal):\n",
        "  # Propriedades\n",
        "\n",
        "  # Métodos\n",
        "  def getFalar(self):\n",
        "    print(\"Glub Glub\")\n",
        "\n",
        "cachorro1 = Cachorro()\n",
        "gato1 = Gato()\n",
        "peixe1 = Peixe()\n",
        "\n",
        "cachorro1.getFalar()\n",
        "gato1.getFalar()\n",
        "peixe1.getFalar()"
      ],
      "metadata": {
        "colab": {
          "base_uri": "https://localhost:8080/"
        },
        "id": "70B4n3s7xxbQ",
        "outputId": "3dad52bf-0456-47dd-da89-11cd950e2538"
      },
      "execution_count": null,
      "outputs": [
        {
          "output_type": "stream",
          "name": "stdout",
          "text": [
            "AuAu\n",
            "Miau\n",
            "Glub Glub\n"
          ]
        }
      ]
    },
    {
      "cell_type": "markdown",
      "source": [
        "2. Crie uma classe **Animal** com um método **falar**(). Em seguida, crie duas classes filhas, **Cachorro** e **Gato**, que herdam da classe **Animal**. Cada uma destas classe  filhas deve ter seu próprio método **falar**() que retorne um som diferente (e.g. latidos para o cachorro e miados para o gato). Em seguida, crie uma lista de animais que inclua um **cachorro** e um **gato**. Por fim, itere sobre a lista e chame o método **falar**() de cada animal."
      ],
      "metadata": {
        "id": "y_jz2al9JZ-v"
      }
    },
    {
      "cell_type": "code",
      "source": [
        "class Animal():\n",
        "  # Propriedades\n",
        "\n",
        "  # Métodos\n",
        "  def getFalar(self):\n",
        "    pass\n",
        "\n",
        "class Cachorro(Animal):\n",
        "  # Propriedades\n",
        "\n",
        "  # Métodos\n",
        "  def getFalar(self):\n",
        "    print(\"AuAu\")\n",
        "\n",
        "class Gato(Animal):\n",
        "  # Propriedades\n",
        "\n",
        "  # Métodos\n",
        "  def getFalar(self):\n",
        "    print(\"Miau\")\n",
        "\n",
        "\n",
        "cachorro1 = Cachorro()\n",
        "gato1 = Gato()\n",
        "\n",
        "\n",
        "a = [cachorro1, gato1]\n",
        "\n",
        "for animal in a:\n",
        "  animal.getFalar()"
      ],
      "metadata": {
        "colab": {
          "base_uri": "https://localhost:8080/"
        },
        "id": "fRrqrhhFxs5y",
        "outputId": "5cd1a9d2-c1ac-42ea-e819-935c4dd530f7"
      },
      "execution_count": null,
      "outputs": [
        {
          "output_type": "stream",
          "name": "stdout",
          "text": [
            "AuAu\n",
            "Miau\n"
          ]
        }
      ]
    },
    {
      "cell_type": "markdown",
      "source": [
        "3. Crie uma classe chamada **Carro** com um método **dirigir**(). Em seguida, crie duas subclasses, **CarroGasolina** e **CarroEletrico**, cada uma com sua própria implementação de **dirigir**(). Demonstre o polimorfismo passando instâncias de ambas as subclasses para uma função que recebe um objeto **Carro**."
      ],
      "metadata": {
        "id": "RmfclGylx_rY"
      }
    },
    {
      "cell_type": "code",
      "source": [
        "class Carro():\n",
        "  # Propriedades\n",
        "\n",
        "  # Métodos\n",
        "  def getDirigir(self):\n",
        "    pass\n",
        "\n",
        "class CarroGasolina(Carro):\n",
        "  # Propriedades\n",
        "\n",
        "  # Métodos\n",
        "  def getDirigir(self):\n",
        "    print(f\"\\nVocê está dirigindo um carro movido a gasolina.\")\n",
        "\n",
        "class CarroEletrico(Carro):\n",
        "  # Propriedades\n",
        "\n",
        "  # Métodos\n",
        "  def getDirigir(self):\n",
        "    print(f\"\\nVocê está dirigindo um carro movido a eletricidade.\")\n",
        "\n",
        "carroGasolina1 = CarroGasolina()\n",
        "carroEletrico1 = CarroEletrico()\n",
        "\n",
        "for carro in [carroGasolina1,carroEletrico1]:\n",
        "  carro.getDirigir()"
      ],
      "metadata": {
        "colab": {
          "base_uri": "https://localhost:8080/"
        },
        "id": "HddGmqbiyWkt",
        "outputId": "9b2dbea1-d3b4-439e-9799-8025a8466d4b"
      },
      "execution_count": null,
      "outputs": [
        {
          "output_type": "stream",
          "name": "stdout",
          "text": [
            "\n",
            "Você está dirigindo um carro movido a gasolina.\n",
            "\n",
            "Você está dirigindo um carro movido a eletricidade.\n"
          ]
        }
      ]
    },
    {
      "cell_type": "markdown",
      "source": [
        "4. Crie uma classe **Forma** com um método area(). Em seguida, crie duas classes filhas, **Circulo** e **Quadrado**, que herdam da classe **Forma**. Cada uma destas classes filhas deve ter seu próprio método **area**() que calcula a área do círculo ou do quadrado, respectivamente. Em seguida, crie uma lista de formas que inclua um círculo e um quadrado. Por fim, itere sobre a lista e chame o método **area**() de cada forma."
      ],
      "metadata": {
        "id": "WOJVe8ToyW8c"
      }
    },
    {
      "cell_type": "code",
      "source": [
        "class Forma():\n",
        "  # Propriedades\n",
        "\n",
        "  # Métodos\n",
        "  def area(self):\n",
        "    pass\n",
        "\n",
        "class Quadrado(Forma):\n",
        "  # Propriedades\n",
        "\n",
        "  # Métodos\n",
        "  def __init__(self, lado):\n",
        "    self.__lado = lado\n",
        "    self.__area = lado * lado  \n",
        "  \n",
        "  def getArea(self):\n",
        "    print(f\"\\nO quadrado tem: {self.__area} de área\")\n",
        "\n",
        "class Circulo(Forma):\n",
        "  # Propriedades\n",
        "\n",
        "  # Métodos\n",
        "  def __init__(self, raio):\n",
        "    from math import pi\n",
        "    self.__raio = raio\n",
        "    self.__area = pi * raio ** 2\n",
        "  \n",
        "  def getArea(self):\n",
        "     print(f\"\\nO circulo tem: {self.__area} de área\")\n",
        "\n",
        "# Objetos\n",
        "\n",
        "quadrado1 = Quadrado(96)\n",
        "circulo1 = Circulo(5)\n",
        "\n",
        "for forma in [quadrado1, circulo1]:\n",
        "  forma.getArea()"
      ],
      "metadata": {
        "colab": {
          "base_uri": "https://localhost:8080/"
        },
        "id": "V2jtcvufyo5l",
        "outputId": "1e107c68-5b90-400b-e0e4-19e14335988b"
      },
      "execution_count": null,
      "outputs": [
        {
          "output_type": "stream",
          "name": "stdout",
          "text": [
            "\n",
            "O quadrado tem: 9216 de área\n",
            "\n",
            "O circulo tem: 78.53981633974483 de área\n"
          ]
        }
      ]
    },
    {
      "cell_type": "markdown",
      "source": [
        "5. Crie uma classe **Empregado** com um método **pagar_salario**(). Em seguida, crie duas classes filhas, **EmpregadoHora** e **EmpregadoMes**, que herdam da classe **Empregado**. Cada uma das classes filhas deve ter seu próprio método **pagar_salario**() que calcula o salário com base no número de horas trabalhadas ou no salário mensal, respectivamente. Em seguida, crie uma lista de funcionários que inclua um funcionário horista e um funcionário mensalista. Por fim, itere sobre a lista e chame o método **pagar_salario**() de cada funcionário."
      ],
      "metadata": {
        "id": "QDj1EouVypV-"
      }
    },
    {
      "cell_type": "code",
      "source": [
        "class Empregado():\n",
        "  # Propriedades\n",
        "\n",
        "  # Métodos\n",
        "  def setPagarSalario(self):\n",
        "    pass\n",
        "\n",
        "class EmpregadoHora(Empregado):\n",
        "  # Propriedades\n",
        "  _salarioHora = 5.45\n",
        "  # Métodos\n",
        "  def __init__(self,horasTrabalhadas):\n",
        "    self._horasTrabalhadas = horasTrabalhadas\n",
        "    self.setPagarSalario()\n",
        "\n",
        "  def setPagarSalario(self):\n",
        "    print(f\"Valor do salário: R${self._horasTrabalhadas * self._salarioHora}\")\n",
        "\n",
        "class EmpregadoMes(Empregado):\n",
        "  # Propriedades\n",
        "  _salarioMes = 2500\n",
        "  # Métodos\n",
        "  def __init__(self,mesesTrabalhados):\n",
        "    self._mesesTrabalhados = mesesTrabalhados\n",
        "    self.setPagarSalario()\n",
        "\n",
        "  def setPagarSalario(self):\n",
        "    print(f\"Valor do salário: R${self._mesesTrabalhados * self._salarioMes}\")\n",
        "\n",
        "# Objetos\n",
        "empregadoHora1 = EmpregadoHora(300)\n",
        "empregadoMes1 = EmpregadoMes(2)"
      ],
      "metadata": {
        "id": "LNtjabhEzM6k",
        "colab": {
          "base_uri": "https://localhost:8080/"
        },
        "outputId": "75506e86-138e-46dd-aeb0-e1af62e362fe"
      },
      "execution_count": 2,
      "outputs": [
        {
          "output_type": "stream",
          "name": "stdout",
          "text": [
            "Valor do salário: R$1635.0\n",
            "Valor do salário: R$5000\n"
          ]
        }
      ]
    },
    {
      "cell_type": "markdown",
      "source": [
        "6. Crie uma classe chamada **ContaBancaria** com os métodos **deposito**() e **retirada**(). Crie duas subclasses: **ContaPoupanca** e **ContaCorrente**. Cada uma dessas subclasses deve ter sua própria taxa de juros (a taxa de juros da Conta Poupança é maior que a da Conta Corrente)."
      ],
      "metadata": {
        "id": "GsTwSzqezNPR"
      }
    },
    {
      "cell_type": "code",
      "source": [
        "class ContaBancaria():\n",
        "  # Propriedades\n",
        "\n",
        "  # Métodos\n",
        "  def setDeposito(self,valor):\n",
        "    pass\n",
        "  \n",
        "  def setSaque(self):\n",
        "    pass\n",
        "\n",
        "class ContaPoupanca(ContaBancaria):\n",
        "  # Propriedades\n",
        "  _taxaJuros = 0.1\n",
        "  # Métodos\n",
        "  def __init__(self, saldo):\n",
        "    self._saldo = saldo\n",
        "\n",
        "  def setDeposito(self,valor):\n",
        "    self._saldo += valor - (valor * self._taxaJuros)\n",
        "\n",
        "  def setSaque(self,valor):\n",
        "    self._saldo -= valor + (valor * self._taxaJuros)\n",
        "  \n",
        "  def getSaldo(self):\n",
        "    print(f\"Saldo da conta é: R${self._saldo}\")\n",
        "\n",
        "class ContaCorrente(ContaBancaria):\n",
        "  # Propriedades\n",
        "  _taxaJuros = 0.07\n",
        "  # Métodos\n",
        "  def __init__(self, saldo):\n",
        "    self._saldo = saldo\n",
        "\n",
        "  def setDeposito(self,valor):\n",
        "    self._saldo += valor - (valor * self._taxaJuros)\n",
        "\n",
        "  def setSaque(self,valor):\n",
        "    self._saldo -= valor + (valor * self._taxaJuros)\n",
        "  \n",
        "  def getSaldo(self):\n",
        "    print(f\"Saldo da conta é: R${self._saldo}\")\n",
        "\n",
        "# Objetos\n",
        "\n",
        "contaPoupanca1 = ContaPoupanca(9000)\n",
        "contaPoupanca1.setDeposito(2000)\n",
        "contaPoupanca1.setSaque(4000)\n",
        "contaPoupanca1.getSaldo()\n",
        "\n",
        "contaCorrente1 = ContaCorrente(9000)\n",
        "contaCorrente1.setDeposito(2000)\n",
        "contaCorrente1.setSaque(4000)\n",
        "contaCorrente1.getSaldo()"
      ],
      "metadata": {
        "id": "N-BLs8L-zjZm",
        "colab": {
          "base_uri": "https://localhost:8080/"
        },
        "outputId": "451e843d-c0d9-439e-a4d6-fd6c07e78bee"
      },
      "execution_count": 3,
      "outputs": [
        {
          "output_type": "stream",
          "name": "stdout",
          "text": [
            "Saldo da conta é: R$6400.0\n",
            "Saldo da conta é: R$6580.0\n"
          ]
        }
      ]
    }
  ]
}