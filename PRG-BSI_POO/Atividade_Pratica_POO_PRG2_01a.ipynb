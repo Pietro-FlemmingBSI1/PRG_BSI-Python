{
  "nbformat": 4,
  "nbformat_minor": 0,
  "metadata": {
    "colab": {
      "provenance": [],
      "toc_visible": true,
      "authorship_tag": "ABX9TyMWONWoM5lJQc406S9JYMW9",
      "include_colab_link": true
    },
    "kernelspec": {
      "name": "python3",
      "display_name": "Python 3"
    },
    "language_info": {
      "name": "python"
    }
  },
  "cells": [
    {
      "cell_type": "markdown",
      "metadata": {
        "id": "view-in-github",
        "colab_type": "text"
      },
      "source": [
        "<a href=\"https://colab.research.google.com/github/PietroFlemming-Glov3r/PRG_BSI-Python/blob/main/Atividade_Pratica_POO_PRG2_01a.ipynb\" target=\"_parent\"><img src=\"https://colab.research.google.com/assets/colab-badge.svg\" alt=\"Open In Colab\"/></a>"
      ]
    },
    {
      "cell_type": "markdown",
      "source": [
        "# **Exercício de Codificação**"
      ],
      "metadata": {
        "id": "sIDgnMaDMv9z"
      }
    },
    {
      "cell_type": "markdown",
      "source": [
        "• **Classe Bola**: Crie uma classe que modele uma bola:\n",
        "\n",
        "  **a.** Atributos: Cor, circunferência, material\n",
        "\n",
        "  **b.** Métodos: trocaCor e mostraCor"
      ],
      "metadata": {
        "id": "v3cNj3UPMyvX"
      }
    },
    {
      "cell_type": "code",
      "source": [
        "class Bola():\n",
        "  # Propriedades\n",
        "\n",
        "  # Métodos\n",
        "  def __init__(self, cor, circunferencia, material):\n",
        "    self.__cor = cor\n",
        "    self.__circunferencia = circunferencia\n",
        "    self.__material = material\n",
        "  \n",
        "  def setTrocaCor(self, cor):\n",
        "    self.__cor = cor\n",
        "\n",
        "  def getMostrarCor(self):\n",
        "    return \"A cor da bola é: \" + self.__cor\n",
        "\n",
        "# Objeto\n",
        "bola1 = Bola(\"Cinza\", 4.5, \"Borracha\")\n",
        "bola1.setTrocaCor(\"Preto\")\n",
        "\n",
        "print(bola1.getMostrarCor())\n"
      ],
      "metadata": {
        "colab": {
          "base_uri": "https://localhost:8080/"
        },
        "id": "NNILoZe1NGRO",
        "outputId": "27942bbc-e53c-4994-99d9-c62c624865c2"
      },
      "execution_count": null,
      "outputs": [
        {
          "output_type": "stream",
          "name": "stdout",
          "text": [
            "A cor da bola é: Preto\n"
          ]
        }
      ]
    },
    {
      "cell_type": "markdown",
      "source": [
        "• **Classe Quadrado**: Crie uma classe que modele um quadrado:\n",
        "\n",
        "  **a.** Atributos: Tamanho do lado\n",
        "\n",
        "  **b.** Métodos: Mudar valor do Lado, Retornar valor do Lado e calcular Área;"
      ],
      "metadata": {
        "id": "3fpgtEPdNGim"
      }
    },
    {
      "cell_type": "code",
      "source": [
        "class Quadrado():\n",
        "  # Propriedades\n",
        "  \n",
        "  # Métodos\n",
        "  def __init__(self, tamanhoLado):\n",
        "    self.__tamanhoLado = tamanhoLado\n",
        "  \n",
        "  def setMudarLado(self, tamanhoLado):\n",
        "    self.__tamanhoLado = tamanhoLado\n",
        "  \n",
        "  def getTamanhoArea(self):\n",
        "    area = self.__tamanhoLado**2\n",
        "    return \"O tamanhos dos lados é: \" + str(self.__tamanhoLado) + \"\\nA área do quadrado é: \" + str(area)\n",
        "\n",
        "# Objeto\n",
        "\n",
        "quadrado1 = Quadrado(12)\n",
        "quadrado1.setMudarLado(13.5)\n",
        "print(quadrado1.getTamanhoArea())\n"
      ],
      "metadata": {
        "colab": {
          "base_uri": "https://localhost:8080/"
        },
        "id": "z6kviTUqNOwi",
        "outputId": "f174f522-e923-4b27-c615-7adfa3636b5f"
      },
      "execution_count": null,
      "outputs": [
        {
          "output_type": "stream",
          "name": "stdout",
          "text": [
            "O tamanhos dos lados é: 13.5\n",
            " A área do quadrado é: 182.25\n"
          ]
        }
      ]
    },
    {
      "cell_type": "markdown",
      "source": [
        "• **Classe Retangulo**: Crie uma classe que modele um retangulo:\n",
        "  \n",
        "  **a.** Atributos: LadoA, LadoB (ou Comprimento e Largura, ou Base e Altura, a escolher)\n",
        "\n",
        "  **b.** Métodos: Mudar valor dos lados, Retornar valor dos lados, calcular Área e calcular Perímetro;\n",
        "\n",
        "  **c.** Crie um programa que utilize esta classe. Ele deve pedir ao usuário que informe as medidades\n",
        "de um local. Depois, deve criar um objeto com as medidas e calcular a quantidade de pisos e\n",
        "de rodapés necessárias para o local."
      ],
      "metadata": {
        "id": "jIhWxGwLNO36"
      }
    },
    {
      "cell_type": "code",
      "source": [
        "from math import ceil\n",
        "\n",
        "class Retangulo():\n",
        "  # Propriedades\n",
        "\n",
        "  # Métodos\n",
        "  def __init__(self, ladoA, ladoB):\n",
        "    self.__ladoA = ladoA\n",
        "    self.__ladoB = ladoB\n",
        "\n",
        "  def setValorLadoA(self, ladoA):\n",
        "    self.__ladoA = ladoA\n",
        "\n",
        "  def setValorLadoB(self, ladoB):\n",
        "    self.__ladoA = ladoB\n",
        "  \n",
        "  def setValorArea(self):\n",
        "    self.__area = self.__ladoA * self.__ladoB\n",
        "\n",
        "  def setValorPerimetro(self):\n",
        "    self.__perimetro = self.__ladoA*2 + self.__ladoB*2\n",
        "\n",
        "  def getMostrarLados(self):\n",
        "    return f\"Valor do lado A é: {self.__ladoA}\\nValor do lado B é: {self.__ladoB}\"\n",
        "  \n",
        "  def getMostraAreaPerimetro(self):\n",
        "    self.setValorArea()\n",
        "    self.setValorPerimetro()\n",
        "\n",
        "    return f\"O Valor da área é: {self.__area}\\nO Valor do perímetro é: {self.__perimetro}\"\n",
        "\n",
        " # ---------------------------------------------------------------------- \n",
        "  def setCalcularQuantidadePisos(self, tamanhoPiso):\n",
        "    self.setValorArea()\n",
        "    quantidadePisos = ceil(self.__area / tamanhoPiso)\n",
        "    return quantidadePisos\n",
        "\n",
        "  def setCalcularQuantidadeRodapes(self, tamanhoRodape):\n",
        "    self.setValorPerimetro()\n",
        "    quantidadeRodape = ceil(self.__perimetro / tamanhoRodape)\n",
        "    return quantidadeRodape\n",
        "\n",
        "  def getMostraQuantidadeMateriais(self, tamanhoPiso, tamanhoRodape):\n",
        "    quantidadePisos = self.setCalcularQuantidadePisos(tamanhoPiso)\n",
        "    quantidadeRodape = self.setCalcularQuantidadeRodapes(tamanhoRodape)\n",
        "    return f\"Serão necessários: {quantidadePisos} Pisos\\nSerão necessários: {quantidadeRodape} Rodapés\"\n",
        "\n",
        "# Objeto\n",
        "usuario1 = Retangulo(7, 5)\n",
        "usuario1.setValorLadoA(6)\n",
        "usuario1.setValorLadoB(9)\n",
        "print(usuario1.getMostrarLados())\n",
        "print(\"\\n\")\n",
        "print(usuario1.getMostraAreaPerimetro())\n",
        "print(\"\\n\")\n",
        "print(usuario1.getMostraQuantidadeMateriais(2,1.5))\n"
      ],
      "metadata": {
        "colab": {
          "base_uri": "https://localhost:8080/"
        },
        "id": "S3PccTDoNdZh",
        "outputId": "18141a6a-15c6-4cf1-d847-a155adfc5da4"
      },
      "execution_count": null,
      "outputs": [
        {
          "output_type": "stream",
          "name": "stdout",
          "text": [
            "Valor do lado A é: 9\n",
            "Valor do lado B é: 5\n",
            "\n",
            "\n",
            "O Valor da área é: 45\n",
            "O Valor do perímetro é: 28\n",
            "\n",
            "\n",
            "Serão necessários: 23 Pisos\n",
            "Serão necessários: 19 Rodapés\n"
          ]
        }
      ]
    },
    {
      "cell_type": "markdown",
      "source": [
        "• **Classe Pessoa**: Crie uma classe que modele uma pessoa:\n",
        "  \n",
        "  **a.** Atributos: nome, idade, peso e altura\n",
        "\n",
        "  **b.** Métodos: envelhercer, engordar, emagrecer, crescer.\n",
        "\n",
        "*Obs: Por padrão, a cada ano que nossa pessoa envelhece, sendo a idade dela menor que 21 anos,\n",
        "ela deve crescer 0,5 cm.*"
      ],
      "metadata": {
        "id": "m_PwnEFNNd1J"
      }
    },
    {
      "cell_type": "code",
      "source": [
        "class Pessoa():\n",
        "  # Propriedades\n",
        "\n",
        "  # Métodos\n",
        "  def __init__(self, nome, idade, altura, peso):\n",
        "    self.__nome = nome\n",
        "    self.__idade = idade\n",
        "    self.__altura = altura\n",
        "    self.__peso = peso\n",
        "  \n",
        "  def setEnvelhecer(self, idade):\n",
        "    if self.__idade > 21:\n",
        "      self.__idade += idade\n",
        "    else:\n",
        "      maximoCrescer = 21 - self.__idade\n",
        "      self.__idade += idade\n",
        "      if maximoCrescer >= idade:\n",
        "        self.__altura += idade*0.005\n",
        "      else:\n",
        "        self.__altura += maximoCrescer*0.005\n",
        "  \n",
        "  def setEngordar(self, peso):\n",
        "     self.__peso += peso\n",
        "     \n",
        "  def setEmagrecer(self, peso):\n",
        "     self.__peso -= peso\n",
        "\n",
        "  def setCrescer(self, altura):\n",
        "    self.__altura += altura\n",
        "  \n",
        "  def getDadosPessoa(self):\n",
        "    return f\"Nome: {self.__nome}\\nIdade: {self.__idade}\\nAltura: {self.__altura}\\nPeso: {self.__peso}\"\n",
        "  \n",
        "# Objeto\n",
        "pessoa1 = Pessoa(\"Cleber\", 10, 1.70, 78.5)\n",
        "pessoa1.setEnvelhecer(30)\n",
        "pessoa1.setEngordar(9)\n",
        "pessoa1.setEmagrecer(2)\n",
        "pessoa1.setCrescer(0)\n",
        "print(pessoa1.getDadosPessoa())"
      ],
      "metadata": {
        "colab": {
          "base_uri": "https://localhost:8080/"
        },
        "id": "AHYyr6opNtTp",
        "outputId": "a11c4ff7-4064-40d9-dd2f-530f077cb39d"
      },
      "execution_count": null,
      "outputs": [
        {
          "output_type": "stream",
          "name": "stdout",
          "text": [
            "Nome: Cleber\n",
            "Idade: 40\n",
            "Altura: 1.755\n",
            "Peso: 85.5\n"
          ]
        }
      ]
    },
    {
      "cell_type": "markdown",
      "source": [
        "• **Classe Conta Corrente:** Crie uma classe para implementar uma conta corrente. A classe deve\n",
        "possuir os seguintes atributos: número da conta, nome do correntista e saldo. Os métodos são os\n",
        "seguintes: alterarNome, depósito e saque; No construtor, saldo é opcional, com valor default zero e os\n",
        "demais atributos são obrigatórios."
      ],
      "metadata": {
        "id": "qb172CvAN7Hf"
      }
    },
    {
      "cell_type": "code",
      "source": [
        "class ContaCorrente():\n",
        "  # Propriedades\n",
        "\n",
        "  # Métodos\n",
        "\n",
        "  def __init__(self, numeroConta, nome):\n",
        "    self.__numeroConta = numeroConta\n",
        "    self.__nome = nome\n",
        "    self.__saldo = 0\n",
        "  \n",
        "  def setAlterarNome(self, novoNome):\n",
        "    self.__nome = novoNome\n",
        "  \n",
        "  def setDeposito(self, valorDeposito):\n",
        "    if str(valorDeposito).isnumeric() == 1 and valorDeposito > 0:\n",
        "      self.__saldo += valorDeposito\n",
        "      self.getStatusTransacao(0)\n",
        "\n",
        "    else: self.getStatusTransacao(1)\n",
        "\n",
        "  def setSaque(self, valorSaque):\n",
        "    if str(valorSaque).isnumeric() == 1 and valorSaque <= self.__saldo:\n",
        "      self.__saldo -= valorSaque\n",
        "      self.getStatusTransacao(2)\n",
        "    else: self.getStatusTransacao(3)\n",
        "\n",
        "  def getStatusTransacao(self, numeroVerificador):\n",
        "    listaRespostas = [f\"\\nSua transação de depósito foi aprovada.\\nSeu saldo agora é: R${self.__saldo}\",\n",
        "                      f\"\\nSua transação falhou. Valor de depósito não valido.\",\n",
        "                      f\"\\nSua Transação de saque foi aprovada.\\nSeu saldo agora é: R${self.__saldo}\",\n",
        "                      f\"\\nSua transação falhou. Valor de saque não valido.\"]\n",
        "    print(listaRespostas[numeroVerificador])\n",
        "  \n",
        "  def getInformacaoConta(self):\n",
        "    print(f\"\\nNumero da Conta: {self.__numeroConta}\\nNome: {self.__nome}\\nSaldo: R${self.__saldo}\")\n",
        "\n",
        "# Objeto\n",
        "\n",
        "pessoa1 = ContaCorrente(\"2334448\", \"Rodolfo Cruz\")\n",
        "pessoa1.setAlterarNome(\"Rodolfo da Silva Cruz\")\n",
        "pessoa1.setDeposito(735)\n",
        "pessoa1.setDeposito(-200)\n",
        "pessoa1.setSaque(300)\n",
        "pessoa1.setSaque(1000)\n",
        "pessoa1.getInformacaoConta()"
      ],
      "metadata": {
        "id": "SWBaeDLzN_8Q",
        "colab": {
          "base_uri": "https://localhost:8080/"
        },
        "outputId": "c52b2cf4-cd17-44ff-b013-dbfded32e413"
      },
      "execution_count": null,
      "outputs": [
        {
          "output_type": "stream",
          "name": "stdout",
          "text": [
            "\n",
            "Sua transação de depósito foi aprovada.\n",
            "Seu saldo agora é: R$735\n",
            "\n",
            "Sua transação falhou. Valor de depósito não valido.\n",
            "\n",
            "Sua Transação de saque foi aprovada.\n",
            "Seu saldo agora é: R$435\n",
            "\n",
            "Sua transação falhou. Valor de saque não valido.\n",
            "\n",
            "Numero da Conta: 2334448\n",
            "Nome: Rodolfo da Silva Cruz\n",
            "Saldo: R$435\n"
          ]
        }
      ]
    },
    {
      "cell_type": "markdown",
      "source": [
        "• **Classe TV**: Faça um programa que simule um televisor criando-o como um objeto. O usuário deve\n",
        "ser capaz de informar o número do canal e aumentar ou diminuir o volume. Certifique-se de que o\n",
        "número do canal e o nível do volume permanecem dentro de faixas válidas."
      ],
      "metadata": {
        "id": "kK0T3RlYOHfs"
      }
    },
    {
      "cell_type": "code",
      "source": [
        "class TV():\n",
        "  # Propriedades\n",
        "  __volume = 0\n",
        "  __numeroCanal = 1\n",
        "\n",
        "  # Métodos\n",
        "  def setMudarVolume(self, DiferencaVolume):\n",
        "    verificador = DiferencaVolume + self.__volume\n",
        "    if verificador in range(0,100):\n",
        "      self.__volume += DiferencaVolume\n",
        "    elif verificador > 1:\n",
        "      self.__volume = 100\n",
        "    else:\n",
        "      self.__volume = 0\n",
        "\n",
        "    print(f\"\\nVolume:{self.__volume}\")\n",
        "\n",
        "  def setCanal(self, canal):\n",
        "    if canal in range(1,79):\n",
        "      self.__numeroCanal = canal\n",
        "      print(f\"\\nCanal\\n {self.__numeroCanal}\")\n",
        "\n",
        "# Objeto\n",
        "tv1 = TV()\n",
        "tv1.setMudarVolume(110)\n",
        "tv1.setMudarVolume(-130)\n",
        "tv1.setCanal(75)\n",
        "tv1.setCanal(95)"
      ],
      "metadata": {
        "id": "UYhl8H8cOEET",
        "colab": {
          "base_uri": "https://localhost:8080/"
        },
        "outputId": "9288e241-196d-4497-9d46-42498f4e71bb"
      },
      "execution_count": null,
      "outputs": [
        {
          "output_type": "stream",
          "name": "stdout",
          "text": [
            "\n",
            "Volume:100\n",
            "\n",
            "Volume:0\n",
            "\n",
            "Canal\n",
            " 75\n"
          ]
        }
      ]
    },
    {
      "cell_type": "markdown",
      "source": [
        "• **Classe Bichinho Virtual:** Crie uma classe que modele um Tamagushi (Bichinho Eletrônico):\n",
        "\n",
        "  **a.** Atributos: Nome, Fome, Saúde e Idade \n",
        "\n",
        "  **b.** Métodos: Alterar Nome, Fome, Saúde e Idade; Retornar Nome, Fome, Saúde e Idade.\n",
        "  \n",
        "*Obs: Existe mais uma informação que devemos levar em consideração, o Humor do nosso tamagushi, este humor é uma combinação entre os atributos Fome e Saúde, ou seja, um campo calculado, então não devemos criar um atributo para armazenar esta informação por que ela pode ser calculada a qualquer momento.*"
      ],
      "metadata": {
        "id": "qD4KS60EOEN0"
      }
    },
    {
      "cell_type": "code",
      "source": [
        "class Tamagushi():\n",
        "  # Propriedades\n",
        "  __fome = 100\n",
        "  __saude = 100\n",
        "  __idade = 0\n",
        "  __felicidade = 100\n",
        "\n",
        "  # Métodos\n",
        "  def __init__(self, nome):\n",
        "    self.__nome = nome\n",
        "\n",
        "  def setAtualizaFelicidade(self):\n",
        "    self.__felicidade = round((self.__saude + self.__fome) / 2)\n",
        "\n",
        "  def setAlterarNome(self, nome):\n",
        "    self.__nome = nome\n",
        "  \n",
        "  def setAlterarFome(self, fome):\n",
        "    verificador = fome + self.__fome\n",
        "    if verificador in range(0,100):\n",
        "      self.__fome += fome\n",
        "    elif verificador > 1:\n",
        "      self.__fome = 100\n",
        "    else:\n",
        "      self.__fome = 0\n",
        "    self.setAtualizaFelicidade()\n",
        "  \n",
        "  def setAlterarSaude(self, saude):\n",
        "    verificador = saude + self.__saude\n",
        "    if verificador in range(0,100):\n",
        "      self.__saude += saude\n",
        "    elif verificador > 1:\n",
        "      self.__saude = 100\n",
        "    else:\n",
        "      self.__saude = 0\n",
        "    self.setAtualizaFelicidade()\n",
        "  \n",
        "  def setAlterarIdade(self, idade):\n",
        "    self.__idade += idade\n",
        "  \n",
        "  def getStatus(self):\n",
        "    print(f\"Nome: {self.__nome}\\nIdade: {self.__idade}\\nSaúde: {self.__saude}|100\\nFome: {self.__fome}|100\\nFelicidade: {self.__felicidade}|100\")\n",
        "\n",
        "# Objeto\n",
        "tamagushi1 = Tamagushi(\"Carlos\")\n",
        "tamagushi1.setAlterarNome(\"Afonso\")\n",
        "tamagushi1.setAlterarFome(-35)\n",
        "tamagushi1.setAlterarSaude(-17)\n",
        "tamagushi1.setAlterarIdade(3)\n",
        "tamagushi1.getStatus()"
      ],
      "metadata": {
        "id": "QCwEoIU6Oy-4",
        "colab": {
          "base_uri": "https://localhost:8080/"
        },
        "outputId": "ffec091e-b4a3-423c-888d-85d567b3b9a4"
      },
      "execution_count": null,
      "outputs": [
        {
          "output_type": "stream",
          "name": "stdout",
          "text": [
            "Nome: Afonso\n",
            "Idade: 3\n",
            "Saúde: 83|100\n",
            "Fome: 65|100\n",
            "Felicidade: 74|100\n"
          ]
        }
      ]
    },
    {
      "cell_type": "markdown",
      "source": [
        "• **Classe Macaco:** Desenvolva uma classe Macaco,que possua os atributos nome e bucho (estomago)\n",
        "e pelo menos os métodos comer(), verBucho() e digerir(). Faça um programa ou teste interativamente,\n",
        "criando pelo menos dois macacos, alimentando-os com pelo menos 3 alimentos diferentes e\n",
        "verificando o conteúdo do estomago a cada refeição. Experimente fazer com que um macaco coma o\n",
        "outro. É possível criar um macaco canibal?"
      ],
      "metadata": {
        "id": "jE4rzIPbO4zz"
      }
    },
    {
      "cell_type": "code",
      "source": [
        "class Macaco():\n",
        "  # Propriedades\n",
        "\n",
        "  # Métodos\n",
        "  def __init__(self, nome):\n",
        "    self.__nome = nome\n",
        "    self.__bucho = []\n",
        "    \n",
        "  def setComer(self, alimento):\n",
        "    self.__bucho.append(alimento)\n",
        "  \n",
        "  def setDigerir(self):\n",
        "    self.__bucho = []\n",
        "  \n",
        "  def getVerBucho(self):\n",
        "    print(f\"\\nDentro do bucho do {self.__nome} tem {self.__bucho}\")\n",
        "\n",
        "# Objeto\n",
        "macaco1 = Macaco(\"Felipe\")\n",
        "macaco2 = Macaco(\"Felix\")\n",
        "\n",
        "macaco1.setComer(\"Banana\")\n",
        "macaco1.getVerBucho()\n",
        "macaco1.setComer(\"Maçã\")\n",
        "macaco1.getVerBucho()\n",
        "macaco1.setComer(\"Pêra\")\n",
        "macaco1.getVerBucho()\n",
        "macaco2.setComer(\"Manga\")\n",
        "macaco2.getVerBucho()\n",
        "macaco2.setComer(macaco1)\n",
        "macaco2.getVerBucho"
      ],
      "metadata": {
        "id": "4KNzwifOO8ht",
        "colab": {
          "base_uri": "https://localhost:8080/"
        },
        "outputId": "38b18745-8920-4d73-9fca-e649c69bed6e"
      },
      "execution_count": null,
      "outputs": [
        {
          "output_type": "stream",
          "name": "stdout",
          "text": [
            "\n",
            "Dentro do bucho do Felipe tem ['Banana']\n",
            "\n",
            "Dentro do bucho do Felipe tem ['Banana', 'Maçã']\n",
            "\n",
            "Dentro do bucho do Felipe tem ['Banana', 'Maçã', 'Pêra']\n",
            "\n",
            "Dentro do bucho do Felix tem ['Manga']\n"
          ]
        },
        {
          "output_type": "execute_result",
          "data": {
            "text/plain": [
              "<bound method Macaco.getVerBucho of <__main__.Macaco object at 0x7f8c6ed74d90>>"
            ]
          },
          "metadata": {},
          "execution_count": 21
        }
      ]
    },
    {
      "cell_type": "markdown",
      "source": [
        "• **Classe Ponto e Retangulo:** Faça um programa completo utilizando funções e classes que:\n",
        "\n",
        "  **a.** Possua uma classe chamada Ponto, com os atributos x e y.\n",
        "\n",
        "  **b.** Possua uma classe chamada Retangulo, com os atributos largura e altura.\n",
        "\n",
        "  **c.** Possua uma função para imprimir os valores da classe Ponto\n",
        "\n",
        "  **d.** Possua uma função para encontrar o centro de um Retângulo.\n",
        "\n",
        "  **e.** Você deve criar alguns objetos da classe Retangulo.\n",
        "\n",
        "  **f.** Cada objeto deve ter um vértice de partida, por exemplo, o vértice inferior esquerdo do\n",
        "retângulo, que deve ser um objeto da classe Ponto.\n",
        "\n",
        "  **g.** A função para encontrar o centro do retângulo deve retornar o valor para um objeto do tipo\n",
        "ponto que indique os valores de x e y para o centro do objeto.\n",
        "\n",
        "  **h.** O valor do centro do objeto deve ser mostrado na tela\n",
        "\n",
        "  **i.** Crie um menu para alterar os valores do retângulo e imprimir o centro deste retângulo."
      ],
      "metadata": {
        "id": "XlHkEsEGO8w9"
      }
    },
    {
      "cell_type": "code",
      "source": [
        "class Ponto():\n",
        "  # Propriedades\n",
        "\n",
        "  # Métodos\n",
        "  def __init__(self,x,y):\n",
        "    self.x = x\n",
        "    self.y = y\n",
        "\n",
        "  def getValores(self):\n",
        "    print(f\"\\nO Ponto está localizado no x = {self.x} e o y = {self.y}\")\n",
        "  \n",
        "class Retangulo():\n",
        "  # Propriedades\n",
        "  # Métodos\n",
        "  def __init__(self, largura, altura):\n",
        "    self.largura = largura\n",
        "    self.altura = altura\n",
        "    self.centroX, self.centroY = self.setCentro()\n",
        "  \n",
        "  def setCentro(self):\n",
        "    x = self.largura/2\n",
        "    y = self.altura/2\n",
        "    return x , y\n",
        "\n",
        "# Objeto\n",
        "ponto1 = Ponto(9,4)\n",
        "retangulo1 = Retangulo(6, ponto1.y)\n",
        "ponto2 = Ponto(retangulo1.centroX, retangulo1.centroY)\n",
        "ponto2.getValores()\n",
        "\n",
        "x = int(input(print(\"\\nValor de x = \")))\n",
        "y = int(input(print(\"\\nValor de y = \")))\n",
        "retangulo2 = Retangulo(x, y)\n",
        "ponto3 = Ponto(retangulo2.centroX, retangulo2.centroY)\n",
        "ponto3.getValores()"
      ],
      "metadata": {
        "id": "Y3glA9znPN9l",
        "colab": {
          "base_uri": "https://localhost:8080/"
        },
        "outputId": "34bfeae2-6a5d-4be0-845b-9b49a67c3abb"
      },
      "execution_count": null,
      "outputs": [
        {
          "output_type": "stream",
          "name": "stdout",
          "text": [
            "\n",
            "O Ponto está localizado no x = 3.0 e o y = 2.0\n",
            "\n",
            "Valor de x = \n",
            "None27\n",
            "\n",
            "Valor de y = \n",
            "None13\n",
            "\n",
            "O Ponto está localizado no x = 13.5 e o y = 6.5\n"
          ]
        }
      ]
    },
    {
      "cell_type": "markdown",
      "source": [
        "• **Classe Bomba de Combustível:** Faça um programa completo utilizando classes e métodos que:\n",
        "\n",
        "  **a.** Possua uma classe chamada bombaCombustível, com no mínimo esses atributos:\n",
        "\n",
        "   *I.* tipoCombustivel.\n",
        "   \n",
        "   *II.* valorLitro\n",
        "  \n",
        "   *III.* quantidadeCombustivel\n",
        "\n",
        "  **b.** Possua no mínimo esses métodos:\n",
        "   \n",
        "   *I.*abastecerPorValor( ) – método onde é informado o valor a ser abastecido e mostra a\n",
        "quantidade de litros que foi colocada no veículo\n",
        "\n",
        "   *II.* abastecerPorLitro( ) – método onde é informado a quantidade em litros de\n",
        "combustível e mostra o valor a ser pago pelo cliente.\n",
        "\n",
        "   *III.* alterarValor( ) – altera o valor do litro do combustível.\n",
        "\n",
        "   *IV.* alterarCombustivel( ) – altera o tipo do combustível.\n",
        "\n",
        "  *V.* alterarQuantidadeCombustivel( ) – altera a quantidade de combustível restante na\n",
        "bomba.\n",
        "\n",
        "*OBS: Sempre que acontecer um abastecimento é necessário atualizar a quantidade de\n",
        "combustível total na bomba.*"
      ],
      "metadata": {
        "id": "7T8ovkB9PNiX"
      }
    },
    {
      "cell_type": "code",
      "source": [
        "class BombaCombustivel():\n",
        "  # Propriedades\n",
        "\n",
        "  # Métodos\n",
        "  def __init__(self, tipoCombustivel, valorLitro, quantidadeCombustivel):\n",
        "    self.__tipoCombustivel = tipoCombustivel\n",
        "    self.__valorLitro = valorLitro\n",
        "    self.__quantidadeCombustivel = quantidadeCombustivel\n",
        "  \n",
        "  def setAlterarValor(self,novoValor):\n",
        "    self.__valorLitro = novoValor\n",
        "\n",
        "  def setAlterarCombustivel(self, novoTipo):\n",
        "    self.tipoCombustivel = novoTipo\n",
        "  \n",
        "  def setAlterarQuantidade(self, novaQuantidade):\n",
        "    self.__quantidadeCombustivel = novaQuantidade\n",
        "  \n",
        "  def setAbastecerPorValor(self, valor): \n",
        "    quantidadeLitros = valor/self.__valorLitro\n",
        "    self.__quantidadeCombustivel -= quantidadeLitros\n",
        "    verificador = self.__quantidadeCombustivel - quantidadeLitros\n",
        "    if verificador >= 0:\n",
        "      self.getValorAPagar(quantidadeLitros, valor)\n",
        "    else:\n",
        "      self.getFaltouCombustivel(verificador)\n",
        "\n",
        "  def setAbastecerPorLitro(self, quantidadeLitros):\n",
        "    self.__quantidadeCombustivel -= quantidadeLitros\n",
        "    valor = quantidadeLitros * self.__valorLitro\n",
        "    verificador = self.__quantidadeCombustivel - quantidadeLitros\n",
        "    if verificador >= 0:\n",
        "      self.getValorAPagar(quantidadeLitros, valor)\n",
        "    else:\n",
        "      self.getFaltouCombustivel(verificador)\n",
        "  \n",
        "  def getValorAPagar(self, quantidadeLitros, valor):\n",
        "    print(f\"\\nTipo do Combustível: {self.tipoCombustivel}\\nQuantidade de Litros: {quantidadeLitros}\\nValor a pagar: {valor}\")\n",
        "\n",
        "  def getFaltouCombustivel(self,quantidadeFaltou):\n",
        "    print(f\"\\nFaltou {round(- quantidadeFaltou)} de combustível na bomba\")\n",
        "  \n",
        "# Objeto\n",
        "bomba1 = BombaCombustivel(\"Gasolina Comum\", 5.73, 300)\n",
        "bomba1.setAlterarCombustivel(\"Diesel\")\n",
        "bomba1.setAlterarValor(4.75)\n",
        "bomba1.setAlterarQuantidade(500)\n",
        "bomba1.setAbastecerPorLitro(30)\n",
        "bomba1.setAbastecerPorValor(3000)"
      ],
      "metadata": {
        "id": "EIt5fT_NQPYP",
        "colab": {
          "base_uri": "https://localhost:8080/"
        },
        "outputId": "40c51457-d547-424e-ed0c-3897130ee115"
      },
      "execution_count": null,
      "outputs": [
        {
          "output_type": "stream",
          "name": "stdout",
          "text": [
            "\n",
            "Tipo do Combustível: Diesel\n",
            "Quantidade de Litros: 30\n",
            "Valor a pagar: 142.5\n",
            "\n",
            "Faltou 793 de combustível na bomba\n"
          ]
        }
      ]
    },
    {
      "cell_type": "markdown",
      "source": [
        "• **Classe Carro**: Implemente uma classe chamada Carro com as seguintes propriedades:\n",
        "\n",
        "  **a.** Um veículo tem um certo consumo de combustível (medidos em km / litro) e uma certa\n",
        "quantidade de combustível no tanque.\n",
        "  \n",
        "  **b.** O consumo é especificado no construtor e o nível de combustível inicial é 0.\n",
        "\n",
        "  **c.** Forneça um método andar( ) que simule o ato de dirigir o veículo por uma certa distância,\n",
        "reduzindo o nível de combustível no tanque de gasolina.\n",
        "\n",
        "  **d.** Forneça um método obterGasolina( ), que retorna o nível atual de combustível.\n",
        "\n",
        "  **e.** Forneça um método adicionarGasolina( ), para abastecer o tanque. Exemplo de uso:\n",
        "\n",
        "    meuFusca = Carro(15) # 15 quilômetros por litro de combustível.\n",
        "    meuFusca.adicionarGasolina(20) # abastece com 20 litros de combustível.\n",
        "    meuFusca.andar(100) # anda 100 quilômetros.\n",
        "    meuFusca.obterGasolina() # Imprime o combustível que resta no tanque."
      ],
      "metadata": {
        "id": "hSxl2S8QQPvs"
      }
    },
    {
      "cell_type": "code",
      "source": [
        "class Carro():\n",
        "  # Propriedades\n",
        "  __combustivelTanque = 0\n",
        "  # Métodos\n",
        "  def __init__(self, limiteTanque, distanciaPorLitro):\n",
        "    self.__limiteTanque = limiteTanque\n",
        "    self.__distanciaPorLitro = distanciaPorLitro\n",
        "\n",
        "  def setAdicionarGasolina(self, quantidadeAdicionar):\n",
        "    self.__combustivelTanque += quantidadeAdicionar\n",
        "    verificador = self.__combustivelTanque\n",
        "    if verificador > self.__limiteTanque:\n",
        "      self.__combustivelTanque = self.__limiteTanque\n",
        "      self.getPossibilidade(1, verificador - self.__limiteTanque)\n",
        "\n",
        "  \n",
        "  def setAndar(self, distanciaRodada):\n",
        "    quantidadeGasta = distanciaRodada/self.__distanciaPorLitro\n",
        "    \n",
        "    if quantidadeGasta <= self.__combustivelTanque:\n",
        "      self.__combustivelTanque -= quantidadeGasta\n",
        "\n",
        "    else:\n",
        "      self.getPossibilidade(2, distanciaRodada - (quantidadeGasta - self.__combustivelTanque) * self.__distanciaPorLitro)\n",
        "      self.__combustivelTanque = 0\n",
        "    \n",
        "  def getObterGasolina(self):\n",
        "    print(f\"Você tem {round(self.__combustivelTanque)} litros\")\n",
        "\n",
        "  def getPossibilidade(self, verificador, valor):\n",
        "    if verificador == 1:\n",
        "      print(f\"Vazou {round(valor)} litros\")\n",
        "    elif verificador == 2:\n",
        "      print(f\"O carro parou aos {valor} kms\")\n",
        "\n",
        "# Objeto\n",
        "meuFusca = Carro(50 ,15) # 15 quilômetros por litro de combustível.\n",
        "meuFusca.setAdicionarGasolina(80) # abastece com 20 litros de combustível.\n",
        "meuFusca.setAndar(1500) # anda 100 quilômetros.\n",
        "meuFusca.getObterGasolina() # Imprime o combustível que resta no tanque."
      ],
      "metadata": {
        "id": "kv3fEGo1PqX6",
        "colab": {
          "base_uri": "https://localhost:8080/"
        },
        "outputId": "0cc5724f-7bb9-4aac-c4fd-b710617378e9"
      },
      "execution_count": null,
      "outputs": [
        {
          "output_type": "stream",
          "name": "stdout",
          "text": [
            "Vazou 30 litros\n",
            "O carro parou aos 750.0 kms\n",
            "Você tem 0 litros\n"
          ]
        }
      ]
    },
    {
      "cell_type": "markdown",
      "source": [
        "• **Classe Conta de Investimento:** Faça uma classe chamada contaInvestimento que seja semelhante à\n",
        "classe contaBancaria, com a diferença de que se adicione um atributo taxaJuros. Forneça um\n",
        "construtor que configure tanto o saldo inicial como a taxa de juros. Forneça um método adicioneJuros\n",
        "(sem parâmetro explícito) que adicione juros à conta. Escreva um programa que construa uma\n",
        "poupança com um saldo inicial de R$1000,00 e uma taxa de juros de 10%. Depois aplique o método\n",
        "adicioneJuros() cinco vezes e imprime o saldo resultante."
      ],
      "metadata": {
        "id": "vT0-zxkuPqgL"
      }
    },
    {
      "cell_type": "code",
      "source": [
        "class ContaInvestimento():\n",
        "  # Propriedades\n",
        "\n",
        "  def __init__(self, numeroConta, nome, saldo, taxaJuros):\n",
        "    self.__numeroConta = numeroConta\n",
        "    self.__nome = nome\n",
        "    self.__saldo = saldo\n",
        "    self.__taxaJuros = taxaJuros\n",
        "    self.setAdicioneJuros()\n",
        "\n",
        "  def setMesesPassaram(self,meses):\n",
        "    while meses != 0:\n",
        "      self.setAdicioneJuros()\n",
        "      meses -= 1\n",
        "\n",
        "  def setAdicioneJuros(self):\n",
        "    self.__saldo += self.__saldo * (self.__taxaJuros/100)\n",
        "  \n",
        "  def setAlterarNome(self, novoNome):\n",
        "    self.__nome = novoNome\n",
        "  \n",
        "  def setDeposito(self, valorDeposito):\n",
        "    if str(valorDeposito).isnumeric() == 1 and valorDeposito > 0:\n",
        "      self.__saldo += valorDeposito\n",
        "      self.getStatusTransacao(0)\n",
        "      self.setAdicioneJuros()\n",
        "\n",
        "    else: self.getStatusTransacao(1)\n",
        "\n",
        "  def setSaque(self, valorSaque):\n",
        "    if str(valorSaque).isnumeric() == 1 and valorSaque <= self.__saldo:\n",
        "      self.__saldo -= valorSaque\n",
        "      self.getStatusTransacao(2)\n",
        "    else: self.getStatusTransacao(3)\n",
        "\n",
        "  def getStatusTransacao(self, numeroVerificador):\n",
        "    listaRespostas = [f\"\\nSua transação de depósito foi aprovada.\\nSeu saldo agora é: R${round(self.__saldo,2)}\",\n",
        "                      f\"\\nSua transação falhou. Valor de depósito não valido.\",\n",
        "                      f\"\\nSua Transação de saque foi aprovada.\\nSeu saldo agora é: R${round(self.__saldo,2)}\",\n",
        "                      f\"\\nSua transação falhou. Valor de saque não valido.\"]\n",
        "    print(listaRespostas[numeroVerificador])\n",
        "  \n",
        "  def getInformacaoConta(self):\n",
        "    print(f\"\\nNumero da Conta: {self.__numeroConta}\\nNome: {self.__nome}\\nSaldo: R${round(self.__saldo,2)}\")\n",
        "\n",
        "# Objeto\n",
        "\n",
        "pessoa1 = ContaInvestimento(\"2334448\", \"Rodolfo Cruz\", 10000, 10)\n",
        "pessoa1.setAlterarNome(\"Rodolfo da Silva Cruz\")\n",
        "pessoa1.setMesesPassaram(7)\n",
        "pessoa1.getInformacaoConta()\n",
        "pessoa1.setDeposito(735)\n",
        "pessoa1.setDeposito(-200)\n",
        "pessoa1.setSaque(300)\n",
        "pessoa1.setSaque(1000)\n",
        "pessoa1.getInformacaoConta()"
      ],
      "metadata": {
        "id": "h4_SrQ6WQwUz",
        "colab": {
          "base_uri": "https://localhost:8080/"
        },
        "outputId": "ade32c9b-d70d-4ff6-aa94-72220db87cd1"
      },
      "execution_count": null,
      "outputs": [
        {
          "output_type": "stream",
          "name": "stdout",
          "text": [
            "\n",
            "Numero da Conta: 2334448\n",
            "Nome: Rodolfo da Silva Cruz\n",
            "Saldo: R$21435.89\n",
            "\n",
            "Sua transação de depósito foi aprovada.\n",
            "Seu saldo agora é: R$22170.89\n",
            "\n",
            "Sua transação falhou. Valor de depósito não valido.\n",
            "\n",
            "Sua Transação de saque foi aprovada.\n",
            "Seu saldo agora é: R$24087.98\n",
            "\n",
            "Sua Transação de saque foi aprovada.\n",
            "Seu saldo agora é: R$23087.98\n",
            "\n",
            "Numero da Conta: 2334448\n",
            "Nome: Rodolfo da Silva Cruz\n",
            "Saldo: R$23087.98\n"
          ]
        }
      ]
    },
    {
      "cell_type": "markdown",
      "source": [
        "• **Classe Funcionário:** Implemente a classe Funcionário. Um empregado tem um nome (um string) e\n",
        "um salário(um double). Escreva um construtor com dois parâmetros (nome e salário) e métodos para\n",
        "devolver nome e salário. Escreva um pequeno programa que teste sua classe.\n",
        "\n",
        "  **a.**Aprimore a classe do exercício anterior para adicionar o método aumentarSalario\n",
        "(porcentualDeAumento) que aumente o salário do funcionário em uma certa porcentagem.\n",
        "\n",
        "    harry=funcionário(\"Harry\",25000)\n",
        "    harry.aumentarSalario(10)"
      ],
      "metadata": {
        "id": "nXv6Op6IQ31e"
      }
    },
    {
      "cell_type": "code",
      "source": [
        "class Funcionario():\n",
        "  # Propriedades\n",
        "\n",
        "  # Métodos\n",
        "  def __init__(self, nome, salario):\n",
        "    self.__nome = nome\n",
        "    self.__salario = salario\n",
        "\n",
        "  def setAumentoSalarial(self, percentualAumento):\n",
        "    self.__salario += self.__salario*(percentualAumento / 100)\n",
        "  \n",
        "  def getInformacoes(self):\n",
        "    print(f\"\\nNome: {self.__nome}\\nSalário:{self.__salario}\")\n",
        "\n",
        "# Objeto\n",
        "pessoa1 = Funcionario(\"Harry\", 25000)\n",
        "pessoa1.setAumentoSalarial(15)\n",
        "pessoa1.getInformacoes()"
      ],
      "metadata": {
        "id": "bIktxhiFRGEd",
        "colab": {
          "base_uri": "https://localhost:8080/"
        },
        "outputId": "b3b37b09-da57-4730-e0af-cf596d9b1bd0"
      },
      "execution_count": null,
      "outputs": [
        {
          "output_type": "stream",
          "name": "stdout",
          "text": [
            "\n",
            "Nome: Harry\n",
            "Salário:28750.0\n"
          ]
        }
      ]
    },
    {
      "cell_type": "markdown",
      "source": [
        "• **Classe Bichinho Virtual++:** Melhore o programa do bichinho virtual, permitindo que o usuário\n",
        "especifique quanto de comida ele fornece ao bichinho e por quanto tempo ele brinca com o bichinho.\n",
        "Faça com que estes valores afetem quão rapidamente os níveis de fome e tédio caem.\n",
        "\n",
        "  **a.** Crie uma \"porta escondida\" no programa do programa do bichinho virtual que mostre os valores\n",
        "exatos dos atributos do objeto. Consiga isto mostrando o objeto quando uma opção secreta, não listada\n",
        "no menu, for informada na escolha do usuário. Dica: acrescente um método especial str() à classe\n",
        "Bichinho.\n",
        "\n",
        "  **b.**Crie uma Fazenda de Bichinhos instanciando vários objetos bichinho e mantendo o controle deles\n",
        "através de uma lista. Imite o funcionamento do programa básico, mas ao invés de exigis que o usuário\n",
        "tome conta de um único bichinho, exija que ele tome conta da fazenda inteira. Cada opção do menu\n",
        "deveria permitir que o usuário executasse uma ação para todos os bichinhos (alimentar todos os\n",
        "bichinhos, brincar com todos os bichinhos, ou ouvir a todos os bichinhos). Para tornar o programa\n",
        "mais interessante, dê para cada bichinho um nivel inicial aleatório de fome e tédio."
      ],
      "metadata": {
        "id": "3XqF75i2RGgd"
      }
    },
    {
      "cell_type": "code",
      "source": [
        "from sys import exit\n",
        "\n",
        "class TamagushiPro():\n",
        "  # Propriedades\n",
        "  fome = 100\n",
        "  saude = 100\n",
        "  idade = 0\n",
        "  felicidade = 100\n",
        "  fomePorHora = 5\n",
        "\n",
        "  # Métodos\n",
        "  def __init__(self, nome, tempo):\n",
        "    self.__nome = nome\n",
        "    self.tempo = tempo\n",
        "    self.setPerdaFome()\n",
        "    self.setAtualizaIdade()\n",
        "  \n",
        "  def setPerdaFome(self):\n",
        "    fomePerdida = self.tempo * self.fomePorHora\n",
        "    if fomePerdida <= self.fome:\n",
        "      self.fome -= fomePerdida\n",
        "    else:\n",
        "      vidaPerdida = (fomePerdida - self.fome) * 2\n",
        "      self.fome = 0\n",
        "      self.setPerdaSaude(vidaPerdida)\n",
        "    self.setAtualizaFelicidade()\n",
        "\n",
        "  def setAtualizaFelicidade(self):\n",
        "    self.felicidade = (self.saude + self.fome) / 2\n",
        "\n",
        "  def setAlterarNome(self, nome):\n",
        "    self.__nome = nome\n",
        "  \n",
        "  def setGanhaFome(self, comida, vezesComeu):\n",
        "    while vezesComeu > 0:\n",
        "      comidasDict= {\"Banana\":15, \"Coxinha\":70, \"Sorvete\": 45}\n",
        "      aumentoFome = comidasDict[comida]\n",
        "      verificador = aumentoFome + self.fome\n",
        "      if verificador > 100:\n",
        "        self.fome = 100\n",
        "        pass\n",
        "      else:\n",
        "        self.fome += aumentoFome\n",
        "      vezesComeu -= 1\n",
        "    self.setAtualizaFelicidade()\n",
        "  \n",
        "  def setGanhaSaude(self, GanhoSaude):\n",
        "    verificador = GanhoSaude + self.saude\n",
        "    if verificador > 100:\n",
        "      self.saude = 100\n",
        "    else:\n",
        "      self.saude += GanhoSaude\n",
        "      self.setAtualizaFelicidade()\n",
        "\n",
        "  def setPerdaSaude(self, saudePerdida):\n",
        "    verificador = self.saude - saudePerdida\n",
        "    if verificador > 0:\n",
        "      self.saude -= saudePerdida\n",
        "      self.setAtualizaFelicidade()\n",
        "    else:\n",
        "      self.saude = 0\n",
        "      self.getMorreu()\n",
        "    \n",
        "  def setAtualizaIdade(self):\n",
        "    self.idade += self.tempo / 12\n",
        "\n",
        "  def get0(self):\n",
        "    print(f\"\\n(._.)\\nFelicidade: {self.felicidade}|100\\nIdade: {self.idade} anos\\nTempo até morrer: {(self.saude / 10) + (self.fome / 5)} meses \\n[•̃_•̃]\")\n",
        "  \n",
        "  def getStatus(self):\n",
        "    print(f\"\\nNome: {self.__nome}\\nIdade: {round(self.idade,1)} anos\\nSaúde: {self.saude}|100\\nFome: {self.fome}|100\\nFelicidade: {round(self.felicidade)}|100\")\n",
        "  \n",
        "  def getMorreu(self):\n",
        "    print(f\"\\nSeu bichinho morreu.\\n(ಥ﹏ಥ) {self.__nome} durou {round(self.idade,1)}\")\n",
        "    exit()\n",
        "    \n",
        "\n",
        "# Objeto\n",
        "tamagushi2 = TamagushiPro(\"Carlos\",10)\n",
        "tamagushi2.setAlterarNome(\"Afonso\")\n",
        "tamagushi2.setGanhaFome(\"Banana\", 2)\n",
        "tamagushi2.setPerdaSaude(100)\n",
        "tamagushi2.get0()\n",
        "tamagushi2.getStatus()"
      ],
      "metadata": {
        "id": "E4ZkpRsqRQ-a",
        "colab": {
          "base_uri": "https://localhost:8080/",
          "height": 200
        },
        "outputId": "972d4392-7894-4473-a12e-9d7e64973886"
      },
      "execution_count": null,
      "outputs": [
        {
          "output_type": "stream",
          "name": "stdout",
          "text": [
            "\n",
            "Seu bichinho morreu.\n",
            "(ಥ﹏ಥ) Afonso durou 0.8\n"
          ]
        },
        {
          "output_type": "error",
          "ename": "SystemExit",
          "evalue": "ignored",
          "traceback": [
            "An exception has occurred, use %tb to see the full traceback.\n",
            "\u001b[0;31mSystemExit\u001b[0m\n"
          ]
        },
        {
          "output_type": "stream",
          "name": "stderr",
          "text": [
            "/usr/local/lib/python3.9/dist-packages/IPython/core/interactiveshell.py:3334: UserWarning: To exit: use 'exit', 'quit', or Ctrl-D.\n",
            "  warn(\"To exit: use 'exit', 'quit', or Ctrl-D.\", stacklevel=1)\n"
          ]
        }
      ]
    }
  ]
}