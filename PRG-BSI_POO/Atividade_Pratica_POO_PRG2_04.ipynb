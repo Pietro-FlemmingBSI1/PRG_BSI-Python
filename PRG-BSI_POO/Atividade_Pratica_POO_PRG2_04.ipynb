{
  "nbformat": 4,
  "nbformat_minor": 0,
  "metadata": {
    "colab": {
      "provenance": [],
      "toc_visible": true,
      "authorship_tag": "ABX9TyN+yxbPRlSja0xHmr77zl68",
      "include_colab_link": true
    },
    "kernelspec": {
      "name": "python3",
      "display_name": "Python 3"
    },
    "language_info": {
      "name": "python"
    }
  },
  "cells": [
    {
      "cell_type": "markdown",
      "metadata": {
        "id": "view-in-github",
        "colab_type": "text"
      },
      "source": [
        "<a href=\"https://colab.research.google.com/github/PietroFlemming-Glov3r/PRG_BSI-Python/blob/main/Atividade_Pratica_POO_PRG2_04.ipynb\" target=\"_parent\"><img src=\"https://colab.research.google.com/assets/colab-badge.svg\" alt=\"Open In Colab\"/></a>"
      ]
    },
    {
      "cell_type": "markdown",
      "source": [
        "# **Exercícios Multipla Escolha**"
      ],
      "metadata": {
        "id": "k3pQYZQZf1r6"
      }
    },
    {
      "cell_type": "markdown",
      "source": [
        "1. Nós usamos o modificador de acesso private a fim de:\n",
        "\n",
        "a) Limitar o acesso a uma classe\n",
        "\n",
        "b) Limitar o acesso às propriedades\n",
        "\n",
        "c) Limitar o acesso aos métodos\n",
        "\n",
        "**d) B e C estão corretas**"
      ],
      "metadata": {
        "id": "ZfMd_lLbgCIY"
      }
    },
    {
      "cell_type": "markdown",
      "source": [
        "# **Exercício de Codificação**"
      ],
      "metadata": {
        "id": "L0rMOYXLf9u-"
      }
    },
    {
      "cell_type": "markdown",
      "source": [
        "2. Vamos voltar para a classe **Usuario** que desenvolvemos nas atividades anteriores. Agora vamos\n",
        "definir o **primeiroNome** do usuário como uma propriedade privada (**private**)\n",
        ".\n",
        "\n",
        "1- Crie uma propriedade na classe **Usuario** chamada **primeiroNome** e evite que qualquer código\n",
        "de fora da classe altere o seu valor, usando o modificador de acesso apropriado.\n",
        "\n",
        "2- Crie um método para definir o valor da propriedade **primeiroNome**. Use o modificador de\n",
        "acesso correto para ele.\n",
        "\n",
        "3- Agora, crie um método para retornar o valor **primeiroNome**.\n",
        "\n",
        "4- Crie um objeto chamado **usuario1**. Depois defina seu primeiro nome como **\"Joe\"** e faça com\n",
        "que ele retorne este nome."
      ],
      "metadata": {
        "id": "dRlWXM2WhUd_"
      }
    },
    {
      "cell_type": "code",
      "source": [
        "class Usuario():\n",
        "  # Propriedades\n",
        "  __primeiroNome = \"\"\n",
        "\n",
        "  # Métodos\n",
        "  def setPrimeiroNome(self,primeiroNome):\n",
        "    self.__primeiroNome = primeiroNome\n",
        "  def getPrimeiroNome(self):\n",
        "    return self.__primeiroNome\n",
        "  \n",
        "# Objeto\n",
        "usuario1 = Usuario()\n",
        "usuario1.setPrimeiroNome(\"Joe\")\n",
        "print(usuario1.getPrimeiroNome())"
      ],
      "metadata": {
        "colab": {
          "base_uri": "https://localhost:8080/"
        },
        "id": "X_3WzDl3lhtS",
        "outputId": "c63a1ead-9661-4203-dab6-4e2bfadea31e"
      },
      "execution_count": null,
      "outputs": [
        {
          "output_type": "stream",
          "name": "stdout",
          "text": [
            "Joe\n"
          ]
        }
      ]
    },
    {
      "cell_type": "markdown",
      "source": [
        "3. Crie uma classe chamada **Empregado()**, com três propriedades: **nome**, **salario** (deve ser\n",
        "privada) e **projeto**. Ela também possui um método chamado **“trabalho()”**, que deverá\n",
        "imprimir o nome do funcionário e o projeto em que ele está trabalhando e um outro método\n",
        "chamado **“mostrar()”** para exibir os detalhes desse empregado (i.e. nome e salário). Atente\n",
        "para o modificador de acesso da propriedade **“salario”**. Use o método adequado para ter\n",
        "acesso a ela. Crie um objeto desta classe (i.e. instância) e use os métodos para visualizar os\n",
        "dados."
      ],
      "metadata": {
        "id": "lYDUXxvrhboQ"
      }
    },
    {
      "cell_type": "code",
      "source": [
        "class Empregado():\n",
        "  # Propriedades\n",
        "  nome = \"\"\n",
        "  __salario = \"\"\n",
        "  projeto = \"\"\n",
        "\n",
        "  # Métodos\n",
        "  def setSalario(self, salario):\n",
        "    self.__salario = salario\n",
        "  def getTrabalho(self):\n",
        "    return self.nome + \" está trabalhando no projeto: \" + self.projeto\n",
        "  def getMostrar(self):\n",
        "    return \"Nome:\" + self.nome + \"\\n\" + \"Salário:\" + self.__salario\n",
        "\n",
        "# Objeto\n",
        "empregado1 = Empregado()\n",
        "empregado1.setSalario(\"R$ 7900,00\")\n",
        "empregado1.nome = \"Lukas Becker\"\n",
        "empregado1.projeto = \"Reformaulação do Site\"\n",
        "print(empregado1.getTrabalho())\n",
        "print(\"\\n\",empregado1.getMostrar())\n",
        "  "
      ],
      "metadata": {
        "id": "O-waigOFndVC"
      },
      "execution_count": null,
      "outputs": []
    },
    {
      "cell_type": "markdown",
      "source": [
        "4. Crie uma classe chamada **Robo()**. Ela deverá ter duas propriedades privadas: **nome** e **ano_construcao**. Também deverá ter um método de nome **“diga_alo()”**, para mostrar na\n",
        "tela o nome do robô e seu ano de construção. Crie os métodos **“setters”** e **“getters”**\n",
        "necessários. Instancie a classe e use os métodos criados para visualizar / atualizar os dados."
      ],
      "metadata": {
        "id": "JIgB1uIbkCEG"
      }
    },
    {
      "cell_type": "code",
      "source": [
        "class Robo():\n",
        "  # Propriedades\n",
        "  __nome = \"\"\n",
        "  __anoConstrucao = \"\"\n",
        "\n",
        "  # Métodos\n",
        "  def setNome(self,nome):\n",
        "    self.__nome = nome\n",
        "  def setAnoConstrucao(self, anoConstrucao):\n",
        "    self.__anoConstrucao = anoConstrucao\n",
        "  def getDigaAlo(self):\n",
        "    return \"Nome: \" + self.__nome + \"\\n\" + \"Ano de Construção: \" + self.__anoConstrucao    \n",
        "\n",
        "# Objeto\n",
        "robo1 = Robo()\n",
        "robo1.setNome(\"Circuit Melter\")\n",
        "robo1.setAnoConstrucao(\"2019\")\n",
        "print(robo1.getDigaAlo())"
      ],
      "metadata": {
        "colab": {
          "base_uri": "https://localhost:8080/"
        },
        "id": "UMIzUXlkpOH_",
        "outputId": "536d47bd-0187-4584-b9d0-7b0933c84da6"
      },
      "execution_count": null,
      "outputs": [
        {
          "output_type": "stream",
          "name": "stdout",
          "text": [
            "Nome: Circuit Melter\n",
            "Ano de Construção: 2019\n"
          ]
        }
      ]
    },
    {
      "cell_type": "markdown",
      "source": [
        "5. Implemente uma classe chamada **Laptop** que possua um atributo protegido chamado **“preco”**\n",
        "que armazena o preço do laptop (sem qualquer validação). Em seguida, implemente um método\n",
        "para ler esse atributo chamado **“get_preco()”** e um método para modificar esse atributo\n",
        "chamado **“set_preco()”** sem validação também. Em seguida, crie uma instância da classe\n",
        "Laptop siga estas etapas:\n",
        "\n",
        "• usando o método **“get_preco()”** imprima o valor do atributo **“preco”** na tela\n",
        "\n",
        "• usando o método **“set_preco()”**, defina o valor do atributo **“preco”** para 3999”"
      ],
      "metadata": {
        "id": "tsoqcAmZkLzS"
      }
    },
    {
      "cell_type": "code",
      "source": [
        "class Laptop():\n",
        "  # Propriedades\n",
        "  __preco = \"\"\n",
        "\n",
        "  #Métodos\n",
        "  def setPreco(self,preco):\n",
        "    self.__preco = preco\n",
        "  def getPreco(self):\n",
        "    return \"Preço: \" + self.__preco\n",
        "\n",
        "# Objeto\n",
        "laptop1 = Laptop()\n",
        "laptop1.setPreco(\"3999\")\n",
        "print(laptop1.getPreco())"
      ],
      "metadata": {
        "id": "lKeINpQ-rt5u"
      },
      "execution_count": null,
      "outputs": []
    },
    {
      "cell_type": "markdown",
      "source": [
        "6. Implemente uma classe chamada **Pessoa** que tenha dois atributos protegidos chamados **“primeiroNome”** e **“ultimoNome”**, respectivamente. Em seguida, implemente métodos\n",
        "chamados **“getPrimeiroNome()”** e **“getUltimoNome()”**, para ler os atributos, e os\n",
        "métodos **“setPrimeiroNome()”** e **“setUltimoNome()”** para atribuir valores a eles. Depois\n",
        "crie uma instância da classe Pessoa definindo os seguintes valores:\n",
        "\n",
        "  *primeiroNome* = **\"João\"**\n",
        "  \n",
        "  *ultimoNome* = **\"Carvalho\"**"
      ],
      "metadata": {
        "id": "DceK-q-Dko9_"
      }
    },
    {
      "cell_type": "code",
      "source": [
        "class Pessoa():\n",
        "  # Propriedades\n",
        "  __primeiroNome = \"\"\n",
        "  __ultimoNome = \"\"\n",
        "\n",
        "  # Métodos\n",
        "  def setPrimeiroNome(self, primeiroNome):\n",
        "    self.__primeiroNome = primeiroNome\n",
        "  def setUltimoNome(self, ultimoNome):\n",
        "    self.__ultimoNome = ultimoNome\n",
        "  def getPrimeiroNome(self):\n",
        "    return \"Nome: \"+ self.__primeiroNome\n",
        "  def getUltimoNome(self):\n",
        "    return \"Sobrenome: \"+ self.__ultimoNome\n",
        "\n",
        "# Objeto\n",
        "pessoa1 = Pessoa()\n",
        "pessoa1.setPrimeiroNome(\"João\")\n",
        "pessoa1.setUltimoNome(\"Carvalho\")\n",
        "\n",
        "print(pessoa1.getPrimeiroNome())\n",
        "print(pessoa1.getUltimoNome())"
      ],
      "metadata": {
        "id": "MoRcWUWIskmA"
      },
      "execution_count": null,
      "outputs": []
    }
  ]
}