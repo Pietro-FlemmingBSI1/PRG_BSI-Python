{
  "nbformat": 4,
  "nbformat_minor": 0,
  "metadata": {
    "colab": {
      "provenance": [],
      "authorship_tag": "ABX9TyNMHQEj9UGLkPW9V1tUaW/v",
      "include_colab_link": true
    },
    "kernelspec": {
      "name": "python3",
      "display_name": "Python 3"
    },
    "language_info": {
      "name": "python"
    }
  },
  "cells": [
    {
      "cell_type": "markdown",
      "metadata": {
        "id": "view-in-github",
        "colab_type": "text"
      },
      "source": [
        "<a href=\"https://colab.research.google.com/github/PietroFlemming-Glov3r/PRG_BSI-Python/blob/main/Atividade_Pratica_POO_PRG2_07.ipynb\" target=\"_parent\"><img src=\"https://colab.research.google.com/assets/colab-badge.svg\" alt=\"Open In Colab\"/></a>"
      ]
    },
    {
      "cell_type": "markdown",
      "source": [
        "Nesta atividade prática, vamos retornar à classe **Usuario** que usamos nas atividades anteriores. Para implementar o princípio do polimorfismo, criaremos uma classe chamada **Usuario**. A partir dela criaremos algumas classes como: para calcular o número de pontuações que um usuário tem, e o número de artigos que ele criou ou editou. Baseado nesta classe (**Usuario**), vamos criar as classes **Autor** e **Editor**, e ambas calcularão o número de pontuações com o método **calcPontuacao**(), embora o valor calculado seja diferente entre estas duas classes.\n",
        "\n",
        "Este é o esqueleto da classe **Usuario**:\n",
        "\n",
        "```\n",
        "class Usuario:\n",
        "pontos = 0\n",
        "numeroDeArtigos = 0\n",
        "# Métodos vão aqui\n",
        "```\n",
        "\n"
      ],
      "metadata": {
        "id": "giztMIdaos4H"
      }
    },
    {
      "cell_type": "markdown",
      "source": [
        "1. Acrescente na classe **Usuario** métodos para definir e obter o número de artigos:\n",
        "\n",
        " a) **setNumeroDeArtigos(self, nart)**\n",
        "\n",
        " b) **getNumeroDeArtigos(self)**\n",
        "\n",
        " *Obs: variável **nart** deve ser um inteiro*\n",
        "\n",
        "2. Acrescente à classe o método chamado **calcPontuacao**(), que realiza os cálculos das pontuações separadamente para cada classe.\n",
        "\n",
        "3. Crie uma classe chamada **Autor** que herda da classe de **Usuario**. Nesta classe (**Autor**) crie um método chamado **calcPontuacao**() que retorna o número de pontuações usando o seguinte cálculo:\n",
        "\n",
        " `numeroDeArtigos * 10 + 20`\n",
        "\n",
        "4. Agora crie também uma classe chamada **Editor** que herda da classe **Usuario**. Nesta classe (**Editor**), crie um método chamado **calcPontuacao**() que retorne o número de pontuações usando o seguinte cálculo:\n",
        "\n",
        " `numeroDeArtigos * 6 + 15`\n",
        "\n",
        "5. Crie um objeto chamado **autor1**, a partir da classe **Autor**. Agora defina o número de artigos como 8 e imprima as pontuações obtidas pelo autor.\n",
        "\n",
        "6. Crie outro objeto chamado **editor1**, a partir da classe **Editor**. Agora defina o número de artigos\n",
        "para 15 e imprima as pontuações que o editor ganhou."
      ],
      "metadata": {
        "id": "Hf-ToHGZpQfG"
      }
    },
    {
      "cell_type": "code",
      "source": [
        "class Usuario:\n",
        "  # Propriedades\n",
        "\n",
        "  # Métodos\n",
        "  def __init__(self, pontos, numeroDeArtigos):\n",
        "    self.__pontos = pontos\n",
        "    self.__numeroDeArtigos = numeroDeArtigos\n",
        "\n",
        "  def setNumeroDeArtigos(self, nart):\n",
        "    self.__numeroDeArtigos += nart\n",
        "\n",
        "  def getNumeroDeArtigos(self):\n",
        "    return self.__numeroDeArtigos\n",
        "  \n",
        "  def setPontos(self, pontuacao):\n",
        "    self.__pontos = pontuacao\n",
        "  \n",
        "  def setCalcPontuacao(self):\n",
        "    pass\n",
        "  \n",
        "  def __str__(self):\n",
        "    return f\"\\nPontos: {self.__pontos}\\nArtigo: {self.__numeroDeArtigos}\"\n",
        "    \n",
        "  \n",
        "class Autor(Usuario):\n",
        "  # Propriedades\n",
        "\n",
        "  # Métodos\n",
        "  def __init__(self, pontos, numeroDeArtigos):\n",
        "    super().__init__(pontos, numeroDeArtigos)\n",
        "  \n",
        "  def setCalcPontuacao(self):\n",
        "      pontos = super().getNumeroDeArtigos() * 10 + 20\n",
        "      super().setPontos(pontos)\n",
        "\n",
        "class Editor(Usuario):\n",
        "  # Propriedades\n",
        "\n",
        "  # Métodos\n",
        "  def __init__(self, pontos, numeroDeArtigos):\n",
        "    super().__init__(pontos, numeroDeArtigos)\n",
        "  \n",
        "  def setCalcPontuacao(self):\n",
        "    pontos = super().getNumeroDeArtigos() * 6 + 15\n",
        "    super().setPontos(pontos)\n",
        "\n",
        "# Objetos\n",
        "autor1 = Autor(0, 0)\n",
        "autor1.setNumeroDeArtigos(8)\n",
        "autor1.setCalcPontuacao()\n",
        "print(f\"Autor{autor1}\")\n",
        "\n",
        "print(\"\\n\")\n",
        "\n",
        "editor1 = Editor(0, 0)\n",
        "editor1.setNumeroDeArtigos(15)\n",
        "editor1.setCalcPontuacao()\n",
        "print(f\"Editor{editor1}\")\n",
        " "
      ],
      "metadata": {
        "colab": {
          "base_uri": "https://localhost:8080/"
        },
        "id": "1sVGfeJ_qOzZ",
        "outputId": "07ef41e9-044e-47b0-fb48-b99cd1a2c0a9"
      },
      "execution_count": 7,
      "outputs": [
        {
          "output_type": "stream",
          "name": "stdout",
          "text": [
            "Autor\n",
            "Pontos: 100\n",
            "Artigo: 8\n",
            "\n",
            "\n",
            "Editor\n",
            "Pontos: 105\n",
            "Artigo: 15\n"
          ]
        }
      ]
    }
  ]
}