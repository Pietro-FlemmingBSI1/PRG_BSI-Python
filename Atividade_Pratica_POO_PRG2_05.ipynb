{
  "nbformat": 4,
  "nbformat_minor": 0,
  "metadata": {
    "colab": {
      "provenance": [],
      "authorship_tag": "ABX9TyNAXvi/skInviqkRKs7w/f5",
      "include_colab_link": true
    },
    "kernelspec": {
      "name": "python3",
      "display_name": "Python 3"
    },
    "language_info": {
      "name": "python"
    }
  },
  "cells": [
    {
      "cell_type": "markdown",
      "metadata": {
        "id": "view-in-github",
        "colab_type": "text"
      },
      "source": [
        "<a href=\"https://colab.research.google.com/github/PietroFlemming-Glov3r/PRG_BSI-Python/blob/main/Atividade_Pratica_POO_PRG2_05.ipynb\" target=\"_parent\"><img src=\"https://colab.research.google.com/assets/colab-badge.svg\" alt=\"Open In Colab\"/></a>"
      ]
    },
    {
      "cell_type": "markdown",
      "source": [
        "# **Exercício de Codificação**"
      ],
      "metadata": {
        "id": "aXixh87pMCem"
      }
    },
    {
      "cell_type": "markdown",
      "source": [
        "1. Acrescente à classe **Usuario** um método construtor para definir um valor para a propriedade **primeiroNome** assim que o objeto for criado."
      ],
      "metadata": {
        "id": "rihPGgchP9Os"
      }
    },
    {
      "cell_type": "markdown",
      "source": [
        "2. Acrescente ao construtor a capacidade de definir o valor da propriedade **ultimoNome**, bem como a propriedade **primeiroNome**."
      ],
      "metadata": {
        "id": "tnNnMq9AQDWH"
      }
    },
    {
      "cell_type": "markdown",
      "source": [
        "3. Adicione à classe **Usuario** um método público chamado **getNomeCompleto()** que retorna o nome completo do usuário."
      ],
      "metadata": {
        "id": "qi-B3Wn2QKhy"
      }
    },
    {
      "cell_type": "markdown",
      "source": [
        "4. Crie um novo objeto, **usuario1**, e passe para o construtor os valores do primeiro e último nome. O primeiro nome é **\"Johnny\"** e o sobrenome é **\"Bravo\"** (você pode escolher sua combinação preferida de primeiro e último nome)."
      ],
      "metadata": {
        "id": "0u5BnhWuQQmN"
      }
    },
    {
      "cell_type": "markdown",
      "source": [
        "5. Obtenha o nome completo e imprima-o na tela."
      ],
      "metadata": {
        "id": "LoHoTe8QQcOy"
      }
    },
    {
      "cell_type": "code",
      "source": [
        "class Usuario():\n",
        "  # Métodos\n",
        "  def __init__(self,primeiroNome,ultimoNome):\n",
        "    self.__primeiroNome = primeiroNome\n",
        "    self.__ultimoNome = ultimoNome\n",
        "  def __str__(self):\n",
        "    return self.__primeiroNome + \" \" + self.__ultimoNome\n",
        "# Objeto\n",
        "usuario1 = Usuario(\"Johnny\",\"Bravo\")\n",
        "print(usuario1)"
      ],
      "metadata": {
        "colab": {
          "base_uri": "https://localhost:8080/"
        },
        "id": "Al-jF1jsQdR7",
        "outputId": "f1f8df96-900a-4ccf-add6-05942a2da246"
      },
      "execution_count": null,
      "outputs": [
        {
          "output_type": "stream",
          "name": "stdout",
          "text": [
            "\n",
            "Johnny Bravo\n"
          ]
        }
      ]
    }
  ]
}