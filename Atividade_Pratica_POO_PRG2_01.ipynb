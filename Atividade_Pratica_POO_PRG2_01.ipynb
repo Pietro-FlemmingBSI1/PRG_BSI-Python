{
  "nbformat": 4,
  "nbformat_minor": 0,
  "metadata": {
    "colab": {
      "provenance": [],
      "toc_visible": true,
      "authorship_tag": "ABX9TyOTpaPW4Ao+eIEmx3+t8jSZ",
      "include_colab_link": true
    },
    "kernelspec": {
      "name": "python3",
      "display_name": "Python 3"
    },
    "language_info": {
      "name": "python"
    }
  },
  "cells": [
    {
      "cell_type": "markdown",
      "metadata": {
        "id": "view-in-github",
        "colab_type": "text"
      },
      "source": [
        "<a href=\"https://colab.research.google.com/github/PietroFlemming-Glov3r/PRG_BSI-Python/blob/main/Atividade_Pratica_POO_PRG2_01.ipynb\" target=\"_parent\"><img src=\"https://colab.research.google.com/assets/colab-badge.svg\" alt=\"Open In Colab\"/></a>"
      ]
    },
    {
      "cell_type": "markdown",
      "source": [
        "# **Exercícios Multipla Escolha**"
      ],
      "metadata": {
        "id": "MqGYh2mVOlXq"
      }
    },
    {
      "cell_type": "markdown",
      "source": [
        "1. Qual das alternativas abaixo melhor define o termo “classe”?  \n",
        "\n",
        "**a) Uma coleção de variáveis e funções trabalhando com essas variáveis.**\n",
        "\n",
        "b) Define e obtém as propriedades e métodos dela. \n",
        "\n",
        "c) É a personificação de um objeto da vida real. \n"
      ],
      "metadata": {
        "id": "2AnqhDkGOs26"
      }
    },
    {
      "cell_type": "markdown",
      "source": [
        "2. Qual das alternativas abaixo melhor define o termo “objeto”?  \n",
        "\n",
        "**a) Um objeto nos dá a capacidade de trabalhar com a classe e ter várias instâncias desta mesma classe.**\n",
        "\n",
        "b) Uma variável dentro de uma classe. \n",
        "\n",
        "c) Uma função dentro de uma classe. \n"
      ],
      "metadata": {
        "id": "lnvLVvtKOyn6"
      }
    },
    {
      "cell_type": "markdown",
      "source": [
        "3. Qual das alternativas abaixo melhor explica o termo \"propriedade\"?  \n",
        "\n",
        "a) Agrupa o código relacionado a um tópico. \n",
        "\n",
        "**b) Uma variável dentro de uma classe.**\n",
        "\n",
        "c) Uma função dentro de uma classe. \n"
      ],
      "metadata": {
        "id": "NJnFIT7AO7hD"
      }
    },
    {
      "cell_type": "markdown",
      "source": [
        "4. Qual das alternativas abaixo melhor explica o termo \"método\"?  \n",
        "\n",
        "**a) Uma função dentro de uma classe.**\n",
        "\n",
        "b) Uma variável dentro de uma classe. \n",
        "\n",
        "c) A incorporação de uma ação real. \n"
      ],
      "metadata": {
        "id": "l1kf2mvdPCuT"
      }
    },
    {
      "cell_type": "markdown",
      "source": [
        "# **Exercício de Codificação**"
      ],
      "metadata": {
        "id": "9dJW7MUbPGZI"
      }
    },
    {
      "cell_type": "markdown",
      "source": [
        "Quase todos os aplicativos ou blogs lidam com os usuários. Seja o processo de registro (cadastro), o login e  logout, o envio de lembretes aos usuários que perderam suas senhas ou a alteração delas sob demanda, todo  o código que lida com os usuários pode ser agrupado em uma única classe. Em nosso exemplo, chamamos a  classe que lida com usuários, **Usuario**, de acordo com a convenção de nomenclatura vigente. \n",
        "Vamos escrever uma classe **Usuario** com as ferramentas que acabamos de adquirir. Esta classe conterá o **nome**  e **sobrenome** de cada usuário e será capaz de dizer **“Olá”** a qualquer pessoa que use nosso aplicativo. \n"
      ],
      "metadata": {
        "id": "dmlX7exwPWrM"
      }
    },
    {
      "cell_type": "markdown",
      "source": [
        "5. Escreva o que você acha que deveria ser o nome da classe, os nomes das propriedades para o  primeiro e último nome (sobrenome) e o nome do método que retorna “Olá”.  \n",
        "\n",
        " \n",
        "\n",
        "*   Nome da classe: Usuario\n",
        "*   Propriedades: nome , sobrenome\n",
        "*   Método:ola\n",
        "\n"
      ],
      "metadata": {
        "id": "SPWok_ZgPqH9"
      }
    },
    {
      "cell_type": "markdown",
      "source": [
        "6. Escreva a classe Usuario e adicione as propriedades e o método (em Python):  \n",
        "\n",
        "  \n",
        "7. Crie a primeira instância e chame-a de usuario1.  \n",
        "  \n",
        "  \n",
        "8. Defina os valores do primeiro e último nome para usuario1.  \n",
        "  \n",
        "  \n",
        "9. Obter o nome e sobrenome do usuário e imprima-os na tela com o comando print.  \n",
        "  \n",
        "  \n",
        "10. Use o método que retorna “Olá” com as variáveis primeiro nome e último nome para dizer Olá ao  usuário.  \n",
        "  \n",
        "  \n",
        "11. Crie (instancie) outro objeto. Chame-o de usuario2, dê a ele o primeiro nome de “Jane” e o  sobrenome de “Silva”, e depois diga “Olá” ao usuário.  \n"
      ],
      "metadata": {
        "id": "1f8enfcSQEIG"
      }
    },
    {
      "cell_type": "code",
      "source": [
        "class Usuario:\n",
        "  nome = \"\"\n",
        "  sobrenome = \"\"\n",
        "\n",
        "  def ola(Self,nome,sobrenome):\n",
        "    return f\"Olá! {nome} {sobrenome}\"\n",
        "\n",
        "usuario1 = Usuario()\n",
        "usuario1.nome = \"Pedro\"\n",
        "usuario1.sobrenome = \"Souza\"\n",
        "\n",
        "print(usuario1.nome, usuario1.sobrenome)\n",
        "print(usuario1.ola(usuario1.nome,usuario1.sobrenome))\n",
        "\n",
        "usuario2 = Usuario()\n",
        "usuario2.nome = \"Jane\"\n",
        "usuario2.sobrenome = \"Silva\"\n",
        "\n",
        "print(usuario2.nome, usuario2.sobrenome)\n",
        "print(usuario1.ola(usuario2.nome,usuario2.sobrenome))\n",
        "\n",
        "\n"
      ],
      "metadata": {
        "colab": {
          "base_uri": "https://localhost:8080/"
        },
        "id": "Js439bBAQHoN",
        "outputId": "b1913742-c104-4f6a-bbda-9d452ea01259"
      },
      "execution_count": null,
      "outputs": [
        {
          "output_type": "stream",
          "name": "stdout",
          "text": [
            "Pedro Souza\n",
            "Olá! Pedro Souza\n",
            "Jane Silva\n",
            "Olá! Jane Silva\n"
          ]
        }
      ]
    }
  ]
}