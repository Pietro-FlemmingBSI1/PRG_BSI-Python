{
  "nbformat": 4,
  "nbformat_minor": 0,
  "metadata": {
    "colab": {
      "provenance": [],
      "toc_visible": true,
      "authorship_tag": "ABX9TyNkximnj6/C8l6qFn1Khr1t",
      "include_colab_link": true
    },
    "kernelspec": {
      "name": "python3",
      "display_name": "Python 3"
    },
    "language_info": {
      "name": "python"
    }
  },
  "cells": [
    {
      "cell_type": "markdown",
      "metadata": {
        "id": "view-in-github",
        "colab_type": "text"
      },
      "source": [
        "<a href=\"https://colab.research.google.com/github/PietroFlemming-Glov3r/PRG_BSI-Python/blob/main/Atividade_Pratica_POO_PRG2_06.ipynb\" target=\"_parent\"><img src=\"https://colab.research.google.com/assets/colab-badge.svg\" alt=\"Open In Colab\"/></a>"
      ]
    },
    {
      "cell_type": "markdown",
      "source": [
        "# Exercício de codificação"
      ],
      "metadata": {
        "id": "m0Pr85J4fIj1"
      }
    },
    {
      "cell_type": "markdown",
      "source": [
        "1. Crie uma classe chamada **Usuario**.\n",
        "\n",
        "2. Adicione à classe acima uma propriedade privada com o nome **nomeUsuario**.\n",
        "\n",
        "3. Crie um método setter que possa definir o valor do **nomeUsuario**.\n",
        "\n",
        "4. Crie uma classe **Admin** que herde a classe Usuario.\n",
        "\n",
        "5. Agora, vamos acrescentar à classe **Admin** algum código. Primeiro, adicione um método público chamado de **escrevaNome()** e faça com que ele retorne a string: \"*Admin*\".\n",
        "\n",
        "6. Adicione à classe Admin outro método público, **digaOla()**, que retorne a string \"*Olá Admin, XXX*\" onde XXX é o nome do usuário (**nomeUsuario**).\n",
        "\n",
        "7. Crie um objeto chamado **admin1** fora da classe Admin. Defina seu nome para *\"Baltazar\"* e diga olá ao usuário. Você vê algum problema?\n",
        "\n",
        "8. Qual é a causa do problema?\n",
        "\n",
        "9. Altere o código para corrigir o problema.\n",
        "\n",
        "10. Tente escrever a solução com um método getter dentro da classe mãe que pode ser usado a partir da classe filha."
      ],
      "metadata": {
        "id": "X9kuRElUfOL9"
      }
    },
    {
      "cell_type": "code",
      "source": [
        "class Usuario():\n",
        "  # Propriedades\n",
        "  _nomeUsuario = \"\" # Tem que ser protegida para poder ser acessada pelo sistema de herança.\n",
        "\n",
        "  # Métodos\n",
        "  def setNomeUsuario(self, nomeUsuario):\n",
        "    self._nomeUsuario = nomeUsuario\n",
        "\n",
        "class Admin(Usuario):\n",
        "  # Métodos\n",
        "  def getEscrevaNome(self):\n",
        "    return \"Admin\"\n",
        "  \n",
        "  def getDigaOla(self):\n",
        "    return f\"Olá {self.getEscrevaNome()}, {self._nomeUsuario}\"\n",
        "  \n",
        "# Objetos\n",
        "admin1 = Admin()\n",
        "admin1.setNomeUsuario(\"Baltazar\")\n",
        "print(admin1.getDigaOla())"
      ],
      "metadata": {
        "colab": {
          "base_uri": "https://localhost:8080/"
        },
        "id": "1QxIcwzFf2tu",
        "outputId": "8fb8499a-68a7-47ed-c7a4-4ea7d73f65e8"
      },
      "execution_count": null,
      "outputs": [
        {
          "output_type": "stream",
          "name": "stdout",
          "text": [
            "Olá Admin, Baltazar\n"
          ]
        }
      ]
    }
  ]
}