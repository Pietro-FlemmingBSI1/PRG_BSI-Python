{
  "nbformat": 4,
  "nbformat_minor": 0,
  "metadata": {
    "colab": {
      "provenance": [],
      "include_colab_link": true
    },
    "kernelspec": {
      "name": "python3",
      "display_name": "Python 3"
    },
    "language_info": {
      "name": "python"
    }
  },
  "cells": [
    {
      "cell_type": "markdown",
      "metadata": {
        "id": "view-in-github",
        "colab_type": "text"
      },
      "source": [
        "<a href=\"https://colab.research.google.com/github/PietroFlemming-Glov3r/PRG_BSI-Python/blob/main/Grande_Software.ipynb\" target=\"_parent\"><img src=\"https://colab.research.google.com/assets/colab-badge.svg\" alt=\"Open In Colab\"/></a>"
      ]
    },
    {
      "cell_type": "markdown",
      "source": [
        "# Trabalho **Grande Software**\n",
        "\n",
        "**Integrantes**:\n",
        "\n",
        "  *  *Adriano Alves Bitencourt dos Anjos*\n",
        "  *  *Gustavo dos Santos Oliveira*\n",
        "  *  *Pietro Flemming*"
      ],
      "metadata": {
        "id": "rg4BfTLgiHrd"
      }
    },
    {
      "cell_type": "markdown",
      "source": [
        "\n",
        "# Criação de ENUMs"
      ],
      "metadata": {
        "id": "7l0kXIPsFeSG"
      }
    },
    {
      "cell_type": "code",
      "execution_count": null,
      "metadata": {
        "id": "VSl9tGw6HK_W"
      },
      "outputs": [],
      "source": [
        "from enum import Enum\n",
        "\n",
        "# Exemplos de marcas de instrumentos.\n",
        "class Builder(Enum):\n",
        "    FENDER = \"fender\"\n",
        "    MARTIN = \"martin\"\n",
        "    GIBSON = \"gibson\"\n",
        "    COLLINGS = \"collings\"\n",
        "    OLSON = \"olson\"\n",
        "    RYAN = \"ryan\"\n",
        "    PRS = \"prs\"\n",
        "    ANY = \"any\"\n",
        "\n",
        "# Exemplos de tipos de instrumentos.\n",
        "class InstrumentType(Enum):\n",
        "    GUITAR = \"Guitar\"\n",
        "    BANJO = \"Banjo\"\n",
        "    DOBRO = \"Dobro\"\n",
        "    FIDDLE = \"Fiddle\"\n",
        "    BASS = \"Bass\"\n",
        "    MANDOLIN = \"Mandolin\"\n",
        "    SAX = \"Sax\"\n",
        "    UNSPECIFIED = \"Unspecified\"\n",
        "\n",
        "# Exemplos de tipos de guitarras.\n",
        "class TypeG(Enum):\n",
        "    ACOUSTIC = \"acoustic\"\n",
        "    ELECTRIC = \"electric\"\n",
        "\n",
        "# Exemplos de tipos de madeiras usadas em instrumentos.\n",
        "class Wood(Enum):\n",
        "    INDIAN_ROSEWOOD = \"indian_rosewood\"\n",
        "    BRAZILIAN_ROSEWOOD = \"brazilian_rosewood\"\n",
        "    MAHOGANY = \"mahogany\"\n",
        "    MAPLE = \"maple\"\n",
        "    COCOBOLO = \"ococobolo\"\n",
        "    CEDAR = \"cedar\"\n",
        "    ADIRONDACK = \"adirondack\"\n",
        "    ALDER = \"alder\"\n",
        "    SITKA = \"sitka\"\n",
        "\n",
        "# Exemplos de estilos de bandolins.\n",
        "class Style(Enum):\n",
        "    A = \"a\"\n",
        "    F = \"f\"\n"
      ]
    },
    {
      "cell_type": "markdown",
      "source": [
        "# Criação da classe **Instrument**"
      ],
      "metadata": {
        "id": "GFGP1Bch6eMN"
      }
    },
    {
      "cell_type": "code",
      "source": [
        "class Instrument(): # Classe geradora do instrumento.\n",
        "    def __init__(self, serialNumber, price, spec):\n",
        "        self._serialNumber = serialNumber\n",
        "        self._price = price\n",
        "        self.spec = spec\n",
        "\n",
        "    def getSerialNumber(self):\n",
        "      return self._serialNumber\n",
        "\n",
        "    def get_price(self):\n",
        "       return self._price\n",
        "\n",
        "    def set_price(self, price):\n",
        "       self._price = price\n",
        "\n",
        "    def getMatches(self, searchSpec):\n",
        "      return self.spec.getMatches(searchSpec)\n",
        "\n",
        "    def getSpec(self):\n",
        "      return self.spec\n",
        "\n",
        "    def getInfo(self): # Função que gera um texto de apresentação.\n",
        "      info_string = f\"Temos um {self.spec.get_property('instrumentType')}\\n\"\n",
        "      for property_name, property_value in self.spec.get_info().items():\n",
        "                if property_name == \"instrumentType\":\n",
        "                    continue\n",
        "                info_string = info_string + f\"{property_name} : {property_value}\\n\"\n",
        "      return f\"{info_string}\\nPreço: U${self._price} \\n\""
      ],
      "metadata": {
        "id": "PANqJRNs7osn"
      },
      "execution_count": null,
      "outputs": []
    },
    {
      "cell_type": "markdown",
      "source": [
        "# Criação da classe **InstrumentSpec**"
      ],
      "metadata": {
        "id": "TGfPjKA5hveZ"
      }
    },
    {
      "cell_type": "code",
      "source": [
        "class InstrumentSpec(): # Classe gerada apartir das especificações dos instrumentos.\n",
        "    def __init__(self, properties):\n",
        "        if properties is None:\n",
        "          self.properties = {}\n",
        "        else:\n",
        "          self.properties = properties.copy()\n",
        "\n",
        "    def get_property(self, property_name):\n",
        "      return self.properties.get(property_name)\n",
        "\n",
        "    def get_info(self):\n",
        "       return self.properties\n",
        "\n",
        "    def getMatches(self, searchSpec): # Função que recebe um instrumento de exemplo e busca por semelhantes no estoque.\n",
        "      for property in searchSpec.get_info():\n",
        "        if searchSpec.get_property(property) != None and searchSpec.get_property(property) != self.get_property(property):\n",
        "          return False\n",
        "      return True\n"
      ],
      "metadata": {
        "id": "tPfm5W9_BpPx"
      },
      "execution_count": null,
      "outputs": []
    },
    {
      "cell_type": "markdown",
      "source": [
        "# Criação da classe **Inventory**\n"
      ],
      "metadata": {
        "id": "jxpAmfOa6t7j"
      }
    },
    {
      "cell_type": "code",
      "source": [
        "class Inventory(): # Classe geradora do estoque de einstrumentos.\n",
        "    def __init__(self):\n",
        "        self.instruments = []\n",
        "\n",
        "    def addInstrument(self, serialNumber, price, spec): # Função que adiciona instrumentos ao estoque.\n",
        "        instrument = Instrument(serialNumber, price, spec)\n",
        "        self.instruments.append(instrument)\n",
        "\n",
        "    def getInstrument(self, serialNumber): # Função que busca os instrumentos dos estoque.\n",
        "        for instrument in self.instruments:\n",
        "            if instrument.getSerialNumber() == serialNumber:\n",
        "                return instrument\n",
        "        return None\n",
        "\n",
        "    def searchInstrument(self, searchInstrument): # Função que faz uma busca filtrada nos estoques e devolve caso exista as opções ao usuário.\n",
        "        searchList = []\n",
        "        for instrument in self.instruments:\n",
        "          if  instrument.getMatches(searchInstrument):\n",
        "            searchList.append(instrument)\n",
        "        return searchList"
      ],
      "metadata": {
        "id": "xZFD6c1C6wlU"
      },
      "execution_count": null,
      "outputs": []
    },
    {
      "cell_type": "markdown",
      "source": [
        "# Rodada de testes"
      ],
      "metadata": {
        "id": "8YwC5EQzh478"
      }
    },
    {
      "cell_type": "code",
      "source": [
        "#\n",
        "inventory = Inventory()\n",
        "\n",
        "# Exemplos de possíveis especificações.\n",
        "specProperties1 = {\n",
        "    \"instrumentType\": InstrumentType.GUITAR.value,\n",
        "    \"builder\": Builder.MARTIN.value,\n",
        "    \"model\": \"OM-28\",\n",
        "    \"type\": TypeG.ACOUSTIC.value,\n",
        "    \"topwood\": Wood.BRAZILIAN_ROSEWOOD.value,\n",
        "    \"backwood\": Wood.ADIRONDACK.value,\n",
        "    \"numstrings\": 6\n",
        "}\n",
        "\n",
        "specProperties2 = {\n",
        "    \"instrumentType\": InstrumentType.GUITAR.value,\n",
        "    \"builder\": Builder.GIBSON.value,\n",
        "    \"model\": \"Les Paul\",\n",
        "    \"type\": TypeG.ELECTRIC.value,\n",
        "    \"topwood\": Wood.MAHOGANY.value,\n",
        "    \"backwood\": Wood.MAHOGANY.value,\n",
        "    \"numstrings\": 6\n",
        "}\n",
        "\n",
        "specProperties3 = {\n",
        "    \"instrumentType\": InstrumentType.GUITAR.value,\n",
        "    \"builder\": Builder.GIBSON.value,\n",
        "    \"model\": \"SG '61 Reissue\",\n",
        "    \"type\": TypeG.ELECTRIC.value,\n",
        "    \"topwood\": Wood.MAHOGANY.value,\n",
        "    \"backwood\": Wood.MAHOGANY.value,\n",
        "    \"numstrings\": 6\n",
        "}\n",
        "\n",
        "specProperties4 = {\n",
        "    \"instrumentType\": InstrumentType.GUITAR.value,\n",
        "    \"builder\": Builder.FENDER.value,\n",
        "    \"model\": \"D-28\",\n",
        "    \"type\": TypeG.ACOUSTIC.value,\n",
        "    \"topwood\": Wood.BRAZILIAN_ROSEWOOD.value,\n",
        "    \"backwood\": Wood.ADIRONDACK.value,\n",
        "    \"numstrings\": 6\n",
        "}\n",
        "\n",
        "specProperties5 = {\n",
        "    \"instrumentType\": InstrumentType.GUITAR.value,\n",
        "    \"builder\": Builder.FENDER.value,\n",
        "    \"model\": \"D-28\",\n",
        "    \"type\": TypeG.ACOUSTIC.value,\n",
        "    \"topwood\": Wood.BRAZILIAN_ROSEWOOD.value,\n",
        "    \"backwood\": Wood.ADIRONDACK.value,\n",
        "    \"numstrings\": 6\n",
        "}\n",
        "\n",
        "# Adicionando instrumentos ao estoque\n",
        "inventory.addInstrument(\"76531\", 6295.95, InstrumentSpec(specProperties1))\n",
        "inventory.addInstrument(\"70108276\", 2295.95, InstrumentSpec(specProperties2))\n",
        "inventory.addInstrument(\"82765501\", 1890.95, InstrumentSpec(specProperties3))\n",
        "inventory.addInstrument(\"77023\", 6275.95, InstrumentSpec(specProperties4))\n",
        "inventory.addInstrument(\"77023\", 6275.95, InstrumentSpec(specProperties5))\n",
        "inventory.addInstrument('78651', 4500.50, InstrumentSpec(specProperties1))\n",
        "\n",
        "\n",
        "# Busca pelo instrumento requisitado pelo usuário.\n",
        "whatErinLikes = Instrument(\" \", 0, InstrumentSpec(specProperties1))\n",
        "searchList = inventory.searchInstrument(whatErinLikes.getSpec())\n",
        "if len(searchList) > 0:\n",
        "  print(f\"Talvez você goste destas:\\n\")\n",
        "  for instrument in searchList:\n",
        "    print(instrument.getInfo())\n",
        "else:\n",
        "  print(\"Desculpe Erin, não temos nada para você\")\n"
      ],
      "metadata": {
        "id": "NDQexEGzBoje",
        "colab": {
          "base_uri": "https://localhost:8080/"
        },
        "outputId": "3dd1a464-f132-4b1a-ffe5-b61f3219b575"
      },
      "execution_count": null,
      "outputs": [
        {
          "output_type": "stream",
          "name": "stdout",
          "text": [
            "Talvez você goste destas:\n",
            "\n",
            "Temos um Guitar\n",
            "builder : martin\n",
            "model : OM-28\n",
            "type : acoustic\n",
            "topwood : brazilian_rosewood\n",
            "backwood : adirondack\n",
            "numstrings : 6\n",
            "\n",
            "Preço: U$6295.95 \n",
            "\n",
            "Temos um Guitar\n",
            "builder : martin\n",
            "model : OM-28\n",
            "type : acoustic\n",
            "topwood : brazilian_rosewood\n",
            "backwood : adirondack\n",
            "numstrings : 6\n",
            "\n",
            "Preço: U$4500.5 \n",
            "\n"
          ]
        }
      ]
    }
  ]
}